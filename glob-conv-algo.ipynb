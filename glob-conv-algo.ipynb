{
 "cells": [
  {
   "cell_type": "code",
   "execution_count": null,
   "metadata": {
    "collapsed": true
   },
   "outputs": [],
   "source": [
    "import numpy as np\n",
    "import tensorflow as tf\n",
    "import random, math\n",
    "import matlab\n",
    "import matlab.engine as me\n",
    "import itertools\n",
    "from myTensorUtil import *\n",
    "from powMeth import *\n",
    "from recmagsign import *"
   ]
  },
  {
   "cell_type": "code",
   "execution_count": null,
   "metadata": {
    "collapsed": true
   },
   "outputs": [],
   "source": [
    "## Activation Function\n",
    "def phi_s(h):\n",
    "    return h**2 if h > 0 else 0\n",
    "phi = np.vectorize(phi_s)"
   ]
  },
  {
   "cell_type": "code",
   "execution_count": null,
   "metadata": {
    "collapsed": true
   },
   "outputs": [],
   "source": [
    "## moments\n",
    "def gamma(j,sigma):\n",
    "    estm = 0\n",
    "    for i in range(10000):\n",
    "        z = np.random.normal(0.0, 1.0)\n",
    "        estm += phi_s(z*sigma)*(z**j)\n",
    "    return estm/10000"
   ]
  },
  {
   "cell_type": "code",
   "execution_count": null,
   "metadata": {
    "collapsed": true
   },
   "outputs": [],
   "source": [
    "## Data and Params Generation\n",
    "def generateWeights(d = 10, k = 5, s_gt = 0.15, kappa = 2 ):\n",
    "    gauss_mat_u = np.random.normal(0.0, 1.0 , (d,k))\n",
    "    gauss_mat_v = np.random.normal(0.0, 1.0 , (k,k))\n",
    "\n",
    "    U, temp = np.linalg.qr(gauss_mat_u)\n",
    "    V, temp = np.linalg.qr(gauss_mat_v)\n",
    "\n",
    "    # U, V = np.linalg.qr(gauss_mat_u)\n",
    "    diag = []\n",
    "    v_gt = []\n",
    "    v_choice = [1,-1]\n",
    "    for iter in range(k):\n",
    "        diag.append(1+1.*iter*(kappa-1)/(k-1))\n",
    "        v_gt.append(random.choice(v_choice))\n",
    "\n",
    "    Sigma = np.diag(diag)\n",
    "    W_gt = np.dot(np.dot(U, Sigma), np.transpose(V))\n",
    "    v_gt = np.asarray(v_gt)\n",
    "\n",
    "#     s_gt = 1 \n",
    "    # normW1 = []\n",
    "    # for i in range(k):\n",
    "    #     this_norm = np.linalg.norm(W_gt[:,i])\n",
    "    #     normW1.append((this_norm,i))\n",
    "    # normW1.sort()\n",
    "\n",
    "    # for i in range(s_gt):\n",
    "    #     this_ind = normW1[i][1] \n",
    "    #     W_gt[:,this_ind] = np.zeros(d)\n",
    "    \n",
    "    s_gt = 0.15\n",
    "    for i in range(d):\n",
    "        for j in range(k):\n",
    "            this_norm = np.linalg.norm(W_gt[i,j])\n",
    "            if this_norm <= s_gt:\n",
    "                W_gt[i,j] = 0.0\n",
    "                \n",
    "    m = np.zeros((4,k))\n",
    "    for i in range(k):\n",
    "        m[0,i] = gamma(1,np.linalg.norm(W_gt[:,i]))\n",
    "        m[1,i] = gamma(2,np.linalg.norm(W_gt[:,i])) - gamma(0,np.linalg.norm(W_gt[:,i]))\n",
    "        m[2,i] = gamma(3,np.linalg.norm(W_gt[:,i])) - 3*gamma(1,np.linalg.norm(W_gt[:,i]))\n",
    "        m[3,i] = gamma(4,np.linalg.norm(W_gt[:,i])) + 3*gamma(0,np.linalg.norm(W_gt[:,i])) - 6*gamma(2,np.linalg.norm(W_gt[:,i]))\n",
    "    return [W_gt, v_gt, m]"
   ]
  },
  {
   "cell_type": "code",
   "execution_count": null,
   "metadata": {
    "collapsed": true
   },
   "outputs": [],
   "source": [
    "def structDiff(w_gt, w_res, delta = 1e-4):\n",
    "    '''\n",
    "    Returns :\n",
    "    False Alarm --  GT - 0 Res- Non 0\n",
    "    Mis Detection -- GT - Non 0 Res - 0\n",
    "    True Positives -- GT - 0 Res - 0\n",
    "    True Negatives -- GT - Non 0 Res - Non 0\n",
    "    '''\n",
    "    \n",
    "    w_gt = w_gt.flatten()\n",
    "    w_res = w_res.flatten()\n",
    "    \n",
    "    num_w = len(w_gt)\n",
    "    assert(num_w == len(w_res)), 'Dimension not Equal\\n'\n",
    "    \n",
    "    false_alarm, mis_det, tr_positive, tr_negative = 0,0,0,0\n",
    "    \n",
    "    for w in range(num_w):\n",
    "        if abs(w_gt[w]) < delta and abs(w_res[w]) > delta :\n",
    "            false_alarm += 1\n",
    "        elif abs(w_gt[w]) > delta and abs(w_res[w]) < delta :\n",
    "            mis_det += 1\n",
    "        elif abs(w_gt[w]) < delta and abs(w_res[w]) < delta :\n",
    "            tr_positive += 1\n",
    "        elif abs(w_gt[w]) > delta and abs(w_res[w]) > delta :\n",
    "            tr_negative += 1\n",
    "        \n",
    "    return [false_alarm, mis_det, tr_positive, tr_negative]"
   ]
  },
  {
   "cell_type": "code",
   "execution_count": null,
   "metadata": {
    "collapsed": true
   },
   "outputs": [],
   "source": [
    "def generateData(W_gt, v_gt,n = 2000, test_n = 1000, d = 10):\n",
    "\n",
    "    train_x = []\n",
    "    train_y = []\n",
    "    for iter in range(n):\n",
    "        train_x.append(np.random.normal(0.0,1.,d))\n",
    "        train_y.append(np.dot(phi(np.dot(train_x[iter], W_gt)),v_gt))\n",
    "    train_x = np.asarray(train_x)\n",
    "    train_y = np.transpose(np.asarray(train_y))\n",
    "\n",
    "    test_x = []\n",
    "    test_y = []\n",
    "    for iter in range(test_n):\n",
    "        test_x.append(np.random.normal(0.0,1.,d))\n",
    "        test_y.append(np.dot(phi(np.dot(test_x[iter], W_gt)),v_gt))\n",
    "    test_x = np.asarray(test_x)\n",
    "    test_y = np.transpose(np.asarray(test_y))\n",
    "\n",
    "    return [train_x, train_y, test_x, test_y]"
   ]
  },
  {
   "cell_type": "code",
   "execution_count": null,
   "metadata": {
    "collapsed": true
   },
   "outputs": [],
   "source": [
    "### Implementation Verification\n",
    "\n",
    "# m[2,3]/np.linalg.norm(W_gt[:,3])**2\n",
    "\n",
    "# M =  np.asarray(getM2(train_x, train_y))\n",
    "\n",
    "# check = np.zeros((d,d))\n",
    "# # check = np.zeros(d)\n",
    "# for i in range(k):\n",
    "#     check += v_gt[i]*m[1,i]*np.outer(W_gt[:,i], W_gt[:,i])\n",
    "# #     check += v_gt[i]*m[0,i]*W_gt[:,i]\n",
    "# print check\n",
    "# print np.linalg.norm(M-check)/np.linalg.norm(check)\n",
    "# print np.linalg.norm(M-check)/np.linalg.norm(M)"
   ]
  },
  {
   "cell_type": "code",
   "execution_count": null,
   "metadata": {
    "collapsed": true
   },
   "outputs": [],
   "source": [
    "def tensorInit(X, y, W_gt, m, k, eng):\n",
    "    divInd = int(len(X)/3)\n",
    "    \n",
    "    # Partition\n",
    "    X1 = X[:divInd]\n",
    "    y1 = y[:divInd]\n",
    "\n",
    "    X2 = X[divInd:2*divInd]\n",
    "    y2 = y[divInd:2*divInd]\n",
    "    \n",
    "    X3 = X[2*divInd:]\n",
    "    y3 = y[2*divInd:]\n",
    "    \n",
    "    ## P2 \n",
    "    ## Estimating P2 as M2\n",
    "    \n",
    "    ## Power Method\n",
    "    V = powMeth(k, X1, y1)\n",
    "    \n",
    "    ## R3\n",
    "    R3 = multLnr2(getM3(X2, y2), V)\n",
    "    \n",
    "    #### KCL\n",
    "    R = matlab.double(R3.flatten().tolist())\n",
    "#     eng = me.start_matlab()\n",
    "    U = eng.notf_frompy(R, 100, k)\n",
    "#     eng.quit()\n",
    "    U = np.asarray(U)\n",
    "    #U = R3[0]\n",
    "\n",
    "    ## RecMagSign\n",
    "    return recmagsgn(V, U, X3, y3, m, W_gt) "
   ]
  },
  {
   "cell_type": "code",
   "execution_count": null,
   "metadata": {
    "collapsed": true
   },
   "outputs": [],
   "source": [
    "def init_weights(shape):\n",
    "    \"\"\" Weight initialization \"\"\"\n",
    "    weights = tf.random_normal(shape, stddev=1.0)\n",
    "    return tf.Variable(weights)\n",
    "\n",
    "def forwardprop(X, w_1, w_2):\n",
    "    \"\"\"\n",
    "    Forward-propagation.\n",
    "    \"\"\"\n",
    "    h    = tf.square(tf.nn.relu((tf.matmul(X, w_1))))\n",
    "    yhat = tf.matmul(h, w_2)  # The \\varphi function\n",
    "    return yhat"
   ]
  },
  {
   "cell_type": "code",
   "execution_count": null,
   "metadata": {
    "collapsed": true
   },
   "outputs": [],
   "source": [
    "def train(train_x, train_y, test_x, test_y, tensorWeights, v_gt, s=0.15, T = 20, batch_size = 10, lr = 1e-3,epsilon = 1e-4):\n",
    "\n",
    "    d = np.shape(train_x)[1]\n",
    "    n = np.shape(train_x)[0]\n",
    "    test_n = np.shape(test_x)[0]\n",
    "    k = np.shape(v_gt)[0]\n",
    "\n",
    "    X = tf.placeholder(\"float64\", shape=[None, d])\n",
    "    y = tf.placeholder(\"float64\", shape=[None, 1])\n",
    "\n",
    "    # Weight initializations\n",
    "    # w_1 = init_weights((d, k))\n",
    "    # w_1 = tf.Variable(tf.cast(w_1, tf.float64))\n",
    "    w_1 = tf.Variable(np.transpose(tensorWeights[0]))\n",
    "\n",
    "    # w_2 = []\n",
    "    # v_choice = [1,-1]\n",
    "    # for iter in range(k):\n",
    "    #     w_2.append(random.choice(v_choice))\n",
    "    # w_2 = tf.cast(tf.Variable(np.transpose(np.asarray([w_2])), trainable=False), tf.float32)\n",
    "    # w_2 = init_weights((k, 1))\n",
    "\n",
    "    # w_2 = tf.Variable(tensorWeights[1], trainable=False)\n",
    "\n",
    "    w_2 = tf.Variable( np.transpose([v_gt]), trainable=False)\n",
    "    w_2 = tf.cast(w_2, tf.float64)\n",
    "\n",
    "    # Forward propagation\n",
    "    yhat  = forwardprop(X, w_1, w_2)\n",
    "\n",
    "    # Backward propagation\n",
    "    cost = tf.losses.mean_squared_error(y, yhat)\n",
    "    updates = tf.train.GradientDescentOptimizer(lr).minimize(cost)\n",
    "\n",
    "    # Run SGD\n",
    "    config = tf.ConfigProto()\n",
    "    config.gpu_options.allow_growth = True\n",
    "    sess = tf.Session(config=config)\n",
    "    init = tf.global_variables_initializer()\n",
    "    sess.run(init)\n",
    "    epsilon = 1e-4\n",
    "    train_loss = []\n",
    "    test_loss = []\n",
    "    T = 20\n",
    "\n",
    "    for epoch in range(T):\n",
    "\n",
    "        ## Shuffling\n",
    "        permList = np.random.permutation(range(n))\n",
    "        train_x = train_x[permList]\n",
    "        train_y = train_y[permList]\n",
    "\n",
    "         ## Iterative Hard Thresholding\n",
    "        ## after every epoch\n",
    "\n",
    "        ## Node Removal\n",
    "    #     cur_w1 =  w_1.eval(session=sess)   \n",
    "    #     normW1 = []\n",
    "    #     for i in range(k):\n",
    "    #         this_norm = np.linalg.norm(cur_w1[:,i])\n",
    "    #         normW1.append((this_norm,i))\n",
    "    #     normW1.sort()\n",
    "\n",
    "    #     for i in range(s):\n",
    "    #         this_ind = normW1[i][1] \n",
    "    #         cur_w1[:,this_ind] = np.zeros(d)\n",
    "    #     assign_op = tf.assign(w_1, cur_w1)\n",
    "    #     sess.run(assign_op)\n",
    "\n",
    "        ## Connection Removal\n",
    "    #     cur_w1 =  w_1.eval(session=sess)   \n",
    "    #     for i in range(d):\n",
    "    #         for j in range(k):\n",
    "    #             this_norm = np.linalg.norm(cur_w1[i,j])\n",
    "    #             if this_norm <= s:\n",
    "    #                 cur_w1[i,j] = 0.0\n",
    "    #     assign_op = tf.assign(w_1, cur_w1)\n",
    "    #     sess.run(assign_op)\n",
    "\n",
    "        ## Connection Removal in a node\n",
    "    #     cur_w1 =  w_1.eval(session=sess)   \n",
    "    #     normW1 = []\n",
    "    #     for i in range(k):\n",
    "    #         this_norm = np.linalg.norm(cur_w1[:,i])\n",
    "    #         normW1.append((this_norm,i))\n",
    "    #     normW1.sort()\n",
    "    #     check = 0\n",
    "    #     for i in range(s):\n",
    "    #         this_ind = normW1[i][1] \n",
    "    #         for j in range(d):\n",
    "    #             this_norm = np.linalg.norm(cur_w1[j,this_ind])\n",
    "    #             if this_norm <= connection_thresh:\n",
    "    #                 cur_w1[j,this_ind] = 0.0\n",
    "    #                 check += 1\n",
    "    #     assign_op = tf.assign(w_1, cur_w1)\n",
    "    #     sess.run(assign_op)\n",
    "\n",
    "        i = 0    \n",
    "        for iter in range(int(n/batch_size)):\n",
    "            sess.run(updates, feed_dict={X: train_x[i: i + batch_size], y: train_y[i: i + batch_size].reshape(batch_size,1)})\n",
    "            i = (i + batch_size)%n\n",
    "    #     train_accuracy = np.mean((train_y - sess.run(yhat, feed_dict={X:train_x})) <= epsilon)\n",
    "        loss = sess.run(cost, feed_dict={X:train_x, y:train_y.reshape(n,1)})\n",
    "        testLoss = sess.run(cost, feed_dict={X:test_x, y:test_y.reshape(test_n,1)})\n",
    "        \n",
    "        print \"Epoch = \", epoch+1,\"training loss: \", loss ,\" test loss: \",testLoss \n",
    "        \n",
    "        train_loss.append(loss)\n",
    "        test_loss.append(testLoss)\n",
    "    return sess.run(w_1), train_loss, test_loss"
   ]
  },
  {
   "cell_type": "code",
   "execution_count": null,
   "metadata": {
    "collapsed": true
   },
   "outputs": [],
   "source": [
    "def recovery(W_gt, v_gt, w_res, v_res ):\n",
    "    \n",
    "    k = np.shape(v_gt)[0]\n",
    "    permList = list(itertools.permutations(range(k)))\n",
    "\n",
    "    w_p = np.transpose(w_res)\n",
    "    \n",
    "    v_p = v_res\n",
    "    \n",
    "    min_v = 100\n",
    "    for perm in permList:\n",
    "        w_pi = w_p[list(perm)]\n",
    "        v_pi = v_p[list(perm)]\n",
    "\n",
    "        w_gt = np.transpose(W_gt)\n",
    "\n",
    "        if sum(v_gt == v_pi) == k:\n",
    "            max_diff = 0\n",
    "            for i in range(k):\n",
    "                diff = np.linalg.norm(w_pi[i]-w_gt[i])/np.linalg.norm(w_gt)\n",
    "                if diff > max_diff:\n",
    "                    max_diff = diff\n",
    "            if max_diff < min_v:\n",
    "                min_v = max_diff\n",
    "        else:\n",
    "            continue\n",
    "    return min_v"
   ]
  },
  {
   "cell_type": "code",
   "execution_count": null,
   "metadata": {
    "collapsed": true
   },
   "outputs": [],
   "source": [
    "n = 2000\n",
    "test_n = 1000\n",
    "d = 10\n",
    "k = 5\n",
    "thresh_gt = 0.15\n",
    "thresh_train = 0.15\n",
    "batch_size = 20\n",
    "lr = 1e-3\n",
    "\n",
    "w_gt, v_gt, m =  generateWeights(d, k, thresh_gt)\n",
    "train_x, train_y, test_x, test_y = generateData(w_gt, v_gt, n, test_n, d)\n",
    "\n",
    "eng = me.start_matlab()\n",
    "tensorWeights = tensorInit(train_x, train_y, w_gt, m ,k, eng)\n",
    "eng.quit()"
   ]
  },
  {
   "cell_type": "code",
   "execution_count": null,
   "metadata": {
    "collapsed": true
   },
   "outputs": [],
   "source": [
    "w_res, train_loss, test_loss = train(train_x, train_y, test_x, test_y, tensorWeights,v_gt )"
   ]
  },
  {
   "cell_type": "code",
   "execution_count": null,
   "metadata": {
    "collapsed": true
   },
   "outputs": [],
   "source": [
    "recoveryVal = recovery(w_gt, v_gt, w_res, v_gt)\n",
    "print recoveryVal\n",
    "\n",
    "recoveryStructure = structDiff(w_gt, w_res, 1e-2)\n",
    "print recoveryStructure"
   ]
  },
  {
   "cell_type": "code",
   "execution_count": null,
   "metadata": {
    "collapsed": true
   },
   "outputs": [],
   "source": [
    "import matplotlib.pyplot as plt"
   ]
  },
  {
   "cell_type": "code",
   "execution_count": null,
   "metadata": {
    "collapsed": true
   },
   "outputs": [],
   "source": [
    "NT = 10\n",
    "\n",
    "y_tl0 = y_tl0[:NT]\n",
    "acc0 = acc0[:NT]\n",
    "\n",
    "y_tl1 = y_tl1[:NT]\n",
    "acc1 = acc1[:NT]\n",
    "\n",
    "y_tl2 = y_tl2[:NT]\n",
    "acc2 = acc2[:NT]\n",
    "\n",
    "y_tl3 = y_tl3[:NT]\n",
    "acc3 = acc3[:NT]\n",
    "\n",
    "# y_tl4 = y_tl4[:NT]\n",
    "# acc4 = acc4[:NT]\n",
    "x_e = x_e[:NT]"
   ]
  },
  {
   "cell_type": "code",
   "execution_count": null,
   "metadata": {
    "collapsed": true
   },
   "outputs": [],
   "source": [
    "fig, ax1 = plt.subplots()\n",
    "ax1.plot(a, b, 'blue', label=\"Ground Truth Thresh= 0.20\")\n",
    "ax1.set_xlabel('threshold', color=\"white\")\n",
    "# Make the y-axis label, ticks and tick labels match the line color.\n",
    "ax1.set_ylabel('recovery', color='white')\n",
    "ax1.tick_params('y', colors='white')\n",
    "ax1.tick_params('x', colors='white')\n",
    "l1 = ax1.legend(bbox_to_anchor=(1.1 ,0.5), loc=2, borderaxespad=0.)\n",
    "plt.show()"
   ]
  },
  {
   "cell_type": "code",
   "execution_count": null,
   "metadata": {
    "collapsed": true
   },
   "outputs": [],
   "source": [
    "fig, ax1 = plt.subplots()\n",
    "ax1.plot(x_e, y_tl0, 'blue', label=\"Ground Truth Thresh= 0.15\")\n",
    "# ax1.plot(x_e, y_tl, 'red', label=\"random\")\n",
    "ax1.plot(x_e, y_tl1, 'red', label=\"thresh = 0.10\")\n",
    "ax1.plot(x_e, y_tl2, 'green', label=\"thresh=0.15\")\n",
    "ax1.plot(x_e, y_tl3, 'black', label=\"thresh=0.20\")\n",
    "ax1.plot(x_e, y_tl4, 'magenta', label=\"thresh=0.25\")\n",
    "ax1.set_xlabel('epochs', color=\"white\")\n",
    "# Make the y-axis label, ticks and tick labels match the line color.\n",
    "ax1.set_ylabel('training loss', color='white')\n",
    "ax1.tick_params('y', colors='white')\n",
    "ax1.tick_params('x', colors='white')\n",
    "l1 = ax1.legend(bbox_to_anchor=(1.1 ,0.5), loc=2, borderaxespad=0.)\n",
    "# ax1.set_ylim([0.20,0.30])\n",
    "\n",
    "\n",
    "# ax2 = ax1.twinx()\n",
    "fig, ax2 = plt.subplots()\n",
    "ax2.plot(x_e, acc0, 'blue', label=\"Ground Truth Thresh= 0.15\")\n",
    "# ax2.plot(x_e, acc, 'red', label=\"random_acc\")\n",
    "ax2.plot(x_e, acc1, 'red',label=\"thresh=0.10\")\n",
    "ax2.plot(x_e, acc2, 'green',label=\"thresh=0.15\")\n",
    "ax2.plot(x_e, acc3, 'black',label=\"thresh=0.20\")\n",
    "ax2.plot(x_e, acc4, 'magenta',label=\"thresh=0.25\")\n",
    "ax2.set_ylabel('test error', color='white')\n",
    "ax2.tick_params('y', colors='white')\n",
    "ax2.tick_params('x', colors='white')\n",
    "ax2.set_xlabel('epochs', color=\"white\")\n",
    "l2 = ax2.legend(bbox_to_anchor=(1.1, 1), loc=2, borderaxespad=0.)\n",
    "# ax2.set_ylim([0.20,0.30])\n",
    "# \n",
    "# fig.tight_layout()\n",
    "plt.show()"
   ]
  }
 ],
 "metadata": {
  "kernelspec": {
   "display_name": "Python [conda env:tf-py2.7-mat]",
   "language": "python",
   "name": "conda-env-tf-py2.7-mat-py"
  },
  "language_info": {
   "codemirror_mode": {
    "name": "ipython",
    "version": 2
   },
   "file_extension": ".py",
   "mimetype": "text/x-python",
   "name": "python",
   "nbconvert_exporter": "python",
   "pygments_lexer": "ipython2",
   "version": "2.7.13"
  }
 },
 "nbformat": 4,
 "nbformat_minor": 2
}
