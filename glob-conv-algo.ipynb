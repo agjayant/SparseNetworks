{
 "cells": [
  {
   "cell_type": "code",
   "execution_count": 10,
   "metadata": {
    "collapsed": true
   },
   "outputs": [],
   "source": [
    "import numpy as np\n",
    "import tensorflow as tf\n",
    "import random, math"
   ]
  },
  {
   "cell_type": "code",
   "execution_count": 2,
   "metadata": {
    "collapsed": true
   },
   "outputs": [],
   "source": [
    "## Hyper-Parameters\n",
    "n = 1000 # number of samples\n",
    "d = 10  # input dimension\n",
    "k = 5   # hidden layer size\n",
    "kappa = 2 \n",
    "T = 100 # num of epochs\n",
    "lr = 0.02\n",
    "batch_size = 20"
   ]
  },
  {
   "cell_type": "code",
   "execution_count": 3,
   "metadata": {
    "collapsed": true
   },
   "outputs": [],
   "source": [
    "## Activation Function\n",
    "def phi(h):\n",
    "    return h**2 if h > 0 else 0\n",
    "phi = np.vectorize(phi)"
   ]
  },
  {
   "cell_type": "code",
   "execution_count": 4,
   "metadata": {
    "collapsed": true
   },
   "outputs": [],
   "source": [
    "## Data and Params Generation\n",
    "\n",
    "gauss_mat = np.random.normal(0.0, 0.1 , (d,k))\n",
    "U, V = np.linalg.qr(gauss_mat) \n",
    "\n",
    "### TODO: U,V both are orthogonal and come from different gaussian matrices\n",
    "\n",
    "diag = []\n",
    "v_gt = []\n",
    "v_choice = [1,-1]\n",
    "for iter in range(k):\n",
    "    diag.append(1+1.*iter*(kappa-1)/(k-1))\n",
    "    v_gt.append(random.choice(v_choice))\n",
    "    \n",
    "Sigma = np.diag(diag)\n",
    "W_gt = np.dot(np.dot(U, Sigma), np.transpose(V))\n",
    "v_gt = np.asarray(v_gt)\n",
    "train_x = []\n",
    "train_y = []\n",
    "for iter in range(n):\n",
    "    train_x.append(np.random.normal(0.0,1.,d))\n",
    "    train_y.append(np.dot(phi(np.dot(train_x[iter], W_gt)),v_gt))\n",
    "train_x = np.asarray(train_x)\n",
    "train_y = np.transpose(np.asarray(train_y))"
   ]
  },
  {
   "cell_type": "code",
   "execution_count": 54,
   "metadata": {},
   "outputs": [],
   "source": [
    "def outer3(a,b,c):\n",
    "    A = np.outer(a,b)\n",
    "    B = []\n",
    "    for third in c:\n",
    "        B.append(A*third)\n",
    "    return np.asarray(B)\n",
    "\n",
    "def outer4(a,b,c,d):\n",
    "    A = outer3(a,b,c)\n",
    "    B = []\n",
    "    for fourth in d:\n",
    "        B.append(A*fourth)\n",
    "    return np.asarray(B)\n",
    "\n",
    "def outer3I(x):\n",
    "    return outer3(x,x,x)\n",
    "\n",
    "def outer4I(x):\n",
    "    return outer4(x,x,x,x)\n",
    "\n",
    "def specOuterI(x):\n",
    "    d = len(x)\n",
    "    iden = np.identity(d)\n",
    "    final = np.zeros([d,d,d])\n",
    "    for i in range(d):\n",
    "        final += outer3(x, iden[i], iden[i]) + outer3(iden[i], x, iden[i])+ outer3(iden[i], iden[i],x)\n",
    "    return final\n",
    "\n",
    "def specOuterMat(M):\n",
    "    d = np.shape(M)[0]\n",
    "    ## TODO\n",
    "    \n",
    "    "
   ]
  },
  {
   "cell_type": "code",
   "execution_count": 58,
   "metadata": {},
   "outputs": [],
   "source": [
    "def prob(x):\n",
    "    return math.pow(math.e, -0.5*np.dot(np.transpose(x),x))/np.sqrt(math.pow(2*math.pi, len(x)))\n",
    "\n",
    "def getM1(X, y):\n",
    "    M1 = np.zeros(d)\n",
    "    for iter in range(np.shape(X)[0]):\n",
    "        M1 += y[iter]*X[iter]*prob(X[iter])\n",
    "    return M1\n",
    "\n",
    "def getM2(X, y):\n",
    "    M2 = np.zeros([d,d])\n",
    "    for iter in range(np.shape(X)[0]):\n",
    "        M2 += y[iter]*(np.outer(X[iter], X[iter]) - np.identity(d))*prob(X[iter])\n",
    "    return M2\n",
    "\n",
    "def getM3(X, y):\n",
    "    M3 = np.zeros([d,d,d])\n",
    "    for iter in range(np.shape(X)[0]):\n",
    "        M3 += y[iter]*(outer3I(X[iter]) - specOuterI(X[iter]) )*prob(X[iter])\n",
    "    return M3\n",
    "\n",
    "def getM4(X, y):\n",
    "    M4 = np.zeros([d,d,d,d])\n",
    "    for iter in range(np.shape(X)[0]):\n",
    "        M3 += y[iter]*(outer4I(X[iter]) - specOuterMat(np.outer(X[iter], X[iter])) + specOuterMat(np.identity(d)) )*prob(X[iter])\n",
    "    return M3\n",
    "\n"
   ]
  },
  {
   "cell_type": "code",
   "execution_count": null,
   "metadata": {
    "collapsed": true
   },
   "outputs": [],
   "source": [
    "def init_weights(shape):\n",
    "    \"\"\" Weight initialization \"\"\"\n",
    "    weights = tf.random_normal(shape, stddev=0.1)\n",
    "    return tf.Variable(weights)\n",
    "\n",
    "def forwardprop(X, w_1, w_2):\n",
    "    \"\"\"\n",
    "    Forward-propagation.\n",
    "    \"\"\"\n",
    "    h    = tf.square(tf.nn.relu((tf.matmul(X, w_1))))\n",
    "    yhat = tf.matmul(h, w_2)  # The \\varphi function\n",
    "    return yhat"
   ]
  },
  {
   "cell_type": "code",
   "execution_count": null,
   "metadata": {
    "collapsed": true
   },
   "outputs": [],
   "source": [
    "X = tf.placeholder(\"float\", shape=[None, d])\n",
    "y = tf.placeholder(\"float\", shape=[None, 1])\n",
    "\n",
    "# Weight initializations\n",
    "w_1 = init_weights((d, k))\n",
    "w_2 = init_weights((k, 1))\n",
    "\n",
    "# Forward propagation\n",
    "yhat  = forwardprop(X, w_1, w_2)\n",
    "\n",
    "# Backward propagation\n",
    "cost = tf.losses.mean_squared_error(y, yhat)\n",
    "updates = tf.train.GradientDescentOptimizer(lr).minimize(cost)\n",
    "\n",
    "# Run SGD\n",
    "config = tf.ConfigProto()\n",
    "config.gpu_options.allow_growth = True\n",
    "sess = tf.Session(config=config)\n",
    "init = tf.global_variables_initializer()\n",
    "sess.run(init)\n",
    "epsilon = 1e-4\n",
    "for epoch in range(T):\n",
    "    # Train with each example\n",
    "    i = 0\n",
    "    for iter in range(int(n/batch_size)):\n",
    "        sess.run(updates, feed_dict={X: train_x[i: i + batch_size], y: train_y[i: i + batch_size].reshape(batch_size,1)})\n",
    "        i = (i + batch_size)%n\n",
    "    train_accuracy = np.mean((train_y - sess.run(yhat, feed_dict={X:train_x, y:train_y.reshape(n,1)})) <= epsilon)\n",
    "    print(\"Epoch = \", epoch+1,\" train Acc: \",100.*train_accuracy )"
   ]
  }
 ],
 "metadata": {
  "kernelspec": {
   "display_name": "Python [conda env:tf-py3.6]",
   "language": "python",
   "name": "conda-env-tf-py3.6-py"
  },
  "language_info": {
   "codemirror_mode": {
    "name": "ipython",
    "version": 3
   },
   "file_extension": ".py",
   "mimetype": "text/x-python",
   "name": "python",
   "nbconvert_exporter": "python",
   "pygments_lexer": "ipython3",
   "version": "3.6.2"
  }
 },
 "nbformat": 4,
 "nbformat_minor": 2
}
