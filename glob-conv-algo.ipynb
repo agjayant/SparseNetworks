{
 "cells": [
  {
   "cell_type": "code",
   "execution_count": 10,
   "metadata": {
    "collapsed": true
   },
   "outputs": [],
   "source": [
    "import numpy as np\n",
    "import tensorflow as tf\n",
    "import random, math\n",
    "import matlab\n",
    "import matlab.engine as me\n",
    "import itertools\n",
    "from myTensorUtil import *\n",
    "from powMeth import *\n",
    "from recmagsign import *"
   ]
  },
  {
   "cell_type": "code",
   "execution_count": 34,
   "metadata": {
    "collapsed": true
   },
   "outputs": [],
   "source": [
    "## Hyper-Parameters\n",
    "n = 4000 # number of samples\n",
    "d = 20  # input dimension\n",
    "k = 5   # hidden layer size\n",
    "kappa = 2 \n",
    "lr = 0.02\n",
    "batch_size = 10"
   ]
  },
  {
   "cell_type": "code",
   "execution_count": 35,
   "metadata": {
    "collapsed": true
   },
   "outputs": [],
   "source": [
    "## Activation Function\n",
    "def phi_s(h):\n",
    "    return h**2 if h > 0 else 0\n",
    "phi = np.vectorize(phi_s)"
   ]
  },
  {
   "cell_type": "code",
   "execution_count": 36,
   "metadata": {
    "collapsed": true
   },
   "outputs": [],
   "source": [
    "## Data and Params Generation\n",
    "\n",
    "gauss_mat_u = np.random.normal(0.0, 1.0 , (d,k))\n",
    "gauss_mat_v = np.random.normal(0.0, 1.0 , (k,k))\n",
    "\n",
    "U, temp = np.linalg.qr(gauss_mat_u)\n",
    "V, temp = np.linalg.qr(gauss_mat_v)\n",
    "\n",
    "# U, V = np.linalg.qr(gauss_mat_u)\n",
    "diag = []\n",
    "v_gt = []\n",
    "v_choice = [1,-1]\n",
    "for iter in range(k):\n",
    "    diag.append(1+1.*iter*(kappa-1)/(k-1))\n",
    "    v_gt.append(random.choice(v_choice))\n",
    "    \n",
    "Sigma = np.diag(diag)\n",
    "W_gt = np.dot(np.dot(U, Sigma), np.transpose(V))\n",
    "v_gt = np.asarray(v_gt)\n",
    "train_x = []\n",
    "train_y = []\n",
    "for iter in range(n):\n",
    "    train_x.append(np.random.normal(0.0,1.,d))\n",
    "    train_y.append(np.dot(phi(np.dot(train_x[iter], W_gt)),v_gt))\n",
    "train_x = np.asarray(train_x)\n",
    "train_y = np.transpose(np.asarray(train_y))\n",
    "\n",
    "test_x = []\n",
    "test_y = []\n",
    "for iter in range(1000):\n",
    "    test_x.append(np.random.normal(0.0,1.,d))\n",
    "    test_y.append(np.dot(phi(np.dot(test_x[iter], W_gt)),v_gt))\n",
    "test_x = np.asarray(test_x)\n",
    "test_y = np.transpose(np.asarray(test_y))"
   ]
  },
  {
   "cell_type": "code",
   "execution_count": 37,
   "metadata": {
    "collapsed": true
   },
   "outputs": [],
   "source": [
    "## moments\n",
    "def gamma(j,sigma):\n",
    "    estm = 0\n",
    "    for i in range(10000):\n",
    "        z = np.random.normal(0.0, 1.0)\n",
    "        estm += phi_s(z*sigma)*(z**j)\n",
    "    return estm/10000\n",
    "\n",
    "m = np.zeros((4,k))\n",
    "for i in range(k):\n",
    "    m[0,i] = gamma(1,np.linalg.norm(W_gt[:,i]))\n",
    "    m[1,i] = gamma(2,np.linalg.norm(W_gt[:,i])) - gamma(0,np.linalg.norm(W_gt[:,i]))\n",
    "    m[2,i] = gamma(3,np.linalg.norm(W_gt[:,i])) - 3*gamma(1,np.linalg.norm(W_gt[:,i]))\n",
    "    m[3,i] = gamma(4,np.linalg.norm(W_gt[:,i])) + 3*gamma(0,np.linalg.norm(W_gt[:,i])) - 6*gamma(2,np.linalg.norm(W_gt[:,i]))"
   ]
  },
  {
   "cell_type": "code",
   "execution_count": null,
   "metadata": {
    "collapsed": true
   },
   "outputs": [],
   "source": [
    "# m[2,3]/np.linalg.norm(W_gt[:,3])**2"
   ]
  },
  {
   "cell_type": "code",
   "execution_count": null,
   "metadata": {
    "collapsed": true
   },
   "outputs": [],
   "source": [
    "# M =  np.asarray(getM2(train_x, train_y))\n",
    "\n",
    "# check = np.zeros((d,d))\n",
    "# # check = np.zeros(d)\n",
    "# for i in range(k):\n",
    "#     check += v_gt[i]*m[1,i]*np.outer(W_gt[:,i], W_gt[:,i])\n",
    "# #     check += v_gt[i]*m[0,i]*W_gt[:,i]\n",
    "# print check\n",
    "# print np.linalg.norm(M-check)/np.linalg.norm(check)\n",
    "# print np.linalg.norm(M-check)/np.linalg.norm(M)"
   ]
  },
  {
   "cell_type": "code",
   "execution_count": 38,
   "metadata": {
    "collapsed": true
   },
   "outputs": [],
   "source": [
    "def tensorInit(X, y):\n",
    "    divInd = int(len(X)/3)\n",
    "    \n",
    "    # Partition\n",
    "    X1 = X[:divInd]\n",
    "    y1 = y[:divInd]\n",
    "\n",
    "    X2 = X[divInd:2*divInd]\n",
    "    y2 = y[divInd:2*divInd]\n",
    "    \n",
    "    X3 = X[2*divInd:]\n",
    "    y3 = y[2*divInd:]\n",
    "    \n",
    "    ## P2 \n",
    "    ## Estimating P2 as M2\n",
    "    \n",
    "    ## Power Method\n",
    "    V = powMeth(k, X1, y1)\n",
    "    \n",
    "    ## R3\n",
    "    R3 = multLnr2(getM3(X2, y2), V)\n",
    "    \n",
    "    #### KCL\n",
    "    R = matlab.double(R3.flatten().tolist())\n",
    "    eng = me.start_matlab()\n",
    "    U = eng.notf_frompy(R, 100, k)\n",
    "    eng.quit()\n",
    "    U = np.asarray(U)\n",
    "    #U = R3[0]\n",
    "\n",
    "    ## RecMagSign\n",
    "    return recmagsgn(V, U, X3, y3, m, W_gt) "
   ]
  },
  {
   "cell_type": "code",
   "execution_count": 39,
   "metadata": {
    "collapsed": true
   },
   "outputs": [],
   "source": [
    "X = train_x\n",
    "y = train_y\n",
    "divInd = int(len(X)/2)\n",
    "\n",
    "# Partition\n",
    "X1 = X[:divInd]\n",
    "y1 = y[:divInd]\n",
    "\n",
    "# X2 = X[divInd:2*divInd]\n",
    "# y2 = y[divInd:2*divInd]\n",
    "\n",
    "tensorWeights = tensorInit(train_x, train_y)\n",
    "# tensorWeights = tensorInit(X1, y1)"
   ]
  },
  {
   "cell_type": "code",
   "execution_count": 8,
   "metadata": {
    "collapsed": true
   },
   "outputs": [],
   "source": [
    "def init_weights(shape):\n",
    "    \"\"\" Weight initialization \"\"\"\n",
    "    weights = tf.random_normal(shape, stddev=1.0)\n",
    "    return tf.Variable(weights)\n",
    "\n",
    "def forwardprop(X, w_1, w_2):\n",
    "    \"\"\"\n",
    "    Forward-propagation.\n",
    "    \"\"\"\n",
    "    h    = tf.square(tf.nn.relu((tf.matmul(X, w_1))))\n",
    "    yhat = tf.matmul(h, w_2)  # The \\varphi function\n",
    "    return yhat"
   ]
  },
  {
   "cell_type": "code",
   "execution_count": 40,
   "metadata": {
    "collapsed": true
   },
   "outputs": [],
   "source": [
    "w_1 = init_weights((d, k))\n",
    "w_1_random = tf.Variable(tf.cast(w_1, tf.float64))"
   ]
  },
  {
   "cell_type": "code",
   "execution_count": 72,
   "metadata": {},
   "outputs": [
    {
     "name": "stdout",
     "output_type": "stream",
     "text": [
      "Epoch =  1 training loss:  4.13197  test loss:  4.07821\n",
      "Epoch =  2 training loss:  1.4389  test loss:  1.35958\n",
      "Epoch =  3 training loss:  0.778484  test loss:  0.729273\n",
      "Epoch =  4 training loss:  0.453589  test loss:  0.442359\n",
      "Epoch =  5 training loss:  0.304283  test loss:  0.322441\n",
      "Epoch =  6 training loss:  0.219  test loss:  0.241159\n",
      "Epoch =  7 training loss:  0.165644  test loss:  0.181715\n",
      "Epoch =  8 training loss:  0.13543  test loss:  0.148304\n",
      "Epoch =  9 training loss:  0.129008  test loss:  0.141826\n",
      "Epoch =  10 training loss:  0.127661  test loss:  0.136577\n",
      "Epoch =  11 training loss:  0.129006  test loss:  0.139828\n",
      "Epoch =  12 training loss:  0.12727  test loss:  0.136273\n",
      "Epoch =  13 training loss:  0.127837  test loss:  0.14244\n",
      "Epoch =  14 training loss:  0.127094  test loss:  0.137805\n",
      "Epoch =  15 training loss:  0.129511  test loss:  0.137877\n",
      "Epoch =  16 training loss:  0.133052  test loss:  0.142119\n",
      "Epoch =  17 training loss:  0.128621  test loss:  0.134688\n",
      "Epoch =  18 training loss:  0.130685  test loss:  0.141685\n",
      "Epoch =  19 training loss:  0.129084  test loss:  0.138719\n",
      "Epoch =  20 training loss:  0.128143  test loss:  0.140231\n",
      "Epoch =  21 training loss:  0.132803  test loss:  0.144039\n",
      "Epoch =  22 training loss:  0.132713  test loss:  0.140913\n",
      "Epoch =  23 training loss:  0.131336  test loss:  0.14185\n",
      "Epoch =  24 training loss:  0.131645  test loss:  0.146563\n",
      "Epoch =  25 training loss:  0.127629  test loss:  0.137541\n",
      "Epoch =  26 training loss:  0.130202  test loss:  0.140693\n",
      "Epoch =  27 training loss:  0.129224  test loss:  0.138934\n",
      "Epoch =  28 training loss:  0.129793  test loss:  0.137474\n",
      "Epoch =  29 training loss:  0.128105  test loss:  0.140182\n",
      "Epoch =  30 training loss:  0.12764  test loss:  0.139443\n",
      "Epoch =  31 training loss:  0.129384  test loss:  0.144242\n",
      "Epoch =  32 training loss:  0.129443  test loss:  0.136425\n",
      "Epoch =  33 training loss:  0.1279  test loss:  0.138837\n",
      "Epoch =  34 training loss:  0.128962  test loss:  0.139635\n",
      "Epoch =  35 training loss:  0.130516  test loss:  0.139595\n",
      "Epoch =  36 training loss:  0.132158  test loss:  0.140606\n",
      "Epoch =  37 training loss:  0.131336  test loss:  0.143119\n",
      "Epoch =  38 training loss:  0.128954  test loss:  0.13873\n",
      "Epoch =  39 training loss:  0.128321  test loss:  0.139915\n",
      "Epoch =  40 training loss:  0.130806  test loss:  0.141944\n",
      "Epoch =  41 training loss:  0.133126  test loss:  0.141137\n",
      "Epoch =  42 training loss:  0.129798  test loss:  0.144766\n",
      "Epoch =  43 training loss:  0.131838  test loss:  0.147125\n",
      "Epoch =  44 training loss:  0.132673  test loss:  0.144765\n",
      "Epoch =  45 training loss:  0.129391  test loss:  0.141817\n",
      "Epoch =  46 training loss:  0.129299  test loss:  0.141357\n",
      "Epoch =  47 training loss:  0.137338  test loss:  0.151219\n",
      "Epoch =  48 training loss:  0.130929  test loss:  0.143181\n",
      "Epoch =  49 training loss:  0.131151  test loss:  0.141876\n",
      "Epoch =  50 training loss:  0.130587  test loss:  0.137991\n",
      "Epoch =  51 training loss:  0.129187  test loss:  0.13822\n",
      "Epoch =  52 training loss:  0.133247  test loss:  0.141419\n",
      "Epoch =  53 training loss:  0.128713  test loss:  0.142255\n",
      "Epoch =  54 training loss:  0.129818  test loss:  0.141179\n",
      "Epoch =  55 training loss:  0.130513  test loss:  0.140479\n",
      "Epoch =  56 training loss:  0.126994  test loss:  0.136203\n",
      "Epoch =  57 training loss:  0.128975  test loss:  0.138472\n",
      "Epoch =  58 training loss:  0.130502  test loss:  0.14332\n",
      "Epoch =  59 training loss:  0.129134  test loss:  0.140685\n",
      "Epoch =  60 training loss:  0.128324  test loss:  0.139437\n"
     ]
    }
   ],
   "source": [
    "X = tf.placeholder(\"float64\", shape=[None, d])\n",
    "y = tf.placeholder(\"float64\", shape=[None, 1])\n",
    "\n",
    "# Weight initializations\n",
    "\n",
    "# w_1 = w_1_random\n",
    "\n",
    "w_1 = tf.Variable(np.transpose(tensorWeights[0]))\n",
    "\n",
    "# w_2 = []\n",
    "# v_choice = [1,-1]\n",
    "# for iter in range(k):\n",
    "#     w_2.append(random.choice(v_choice))\n",
    "# w_2 = tf.cast(tf.Variable(np.transpose(np.asarray([w_2])), trainable=False), tf.float32)\n",
    "# w_2 = init_weights((k, 1))\n",
    "\n",
    "# w_2 = tf.Variable(tensorWeights[1], trainable=False)\n",
    "\n",
    "w_2 = tf.Variable( np.transpose([v_gt]), trainable=False)\n",
    "w_2 = tf.cast(w_2, tf.float64)\n",
    "\n",
    "# Forward propagation\n",
    "yhat  = forwardprop(X, w_1, w_2)\n",
    "\n",
    "# Backward propagation\n",
    "cost = tf.losses.mean_squared_error(y, yhat)\n",
    "updates = tf.train.GradientDescentOptimizer(0.001).minimize(cost)\n",
    "\n",
    "# Run SGD\n",
    "config = tf.ConfigProto()\n",
    "config.gpu_options.allow_growth = True\n",
    "sess = tf.Session(config=config)\n",
    "init = tf.global_variables_initializer()\n",
    "sess.run(init)\n",
    "epsilon = 1e-4\n",
    "x_e = []\n",
    "y_tl2 = []\n",
    "acc2 = []\n",
    "T = 60\n",
    "## Node Sparsity\n",
    "s = 2\n",
    "## Connection Sparsity\n",
    "connection_thresh = 0.10\n",
    "for epoch in range(T):\n",
    "    \n",
    "    i = 0\n",
    "    \n",
    "    ## Shuffling\n",
    "    permList = np.random.permutation(range(n))\n",
    "    train_x = train_x[permList]\n",
    "    train_y = train_y[permList]\n",
    "    \n",
    "    for iter in range(int(n/batch_size)):\n",
    "        sess.run(updates, feed_dict={X: train_x[i: i + batch_size], y: train_y[i: i + batch_size].reshape(batch_size,1)})\n",
    "        i = (i + batch_size)%n\n",
    "#     train_accuracy = np.mean((train_y - sess.run(yhat, feed_dict={X:train_x})) <= epsilon)\n",
    "    loss = sess.run(cost, feed_dict={X:train_x, y:train_y.reshape(n,1)})\n",
    "    test_loss = sess.run(cost, feed_dict={X:test_x, y:test_y.reshape(1000,1)})\n",
    "    \n",
    "    ## Iterative Hard Thresholding\n",
    "    ## after every epoch\n",
    "    \n",
    "    ## Node Removal\n",
    "#     cur_w1 =  w_1.eval(session=sess)   \n",
    "#     normW1 = []\n",
    "#     for i in range(k):\n",
    "#         this_norm = np.linalg.norm(cur_w1[:,i])\n",
    "#         normW1.append((this_norm,i))\n",
    "#     normW1.sort()\n",
    "\n",
    "#     for i in range(s):\n",
    "#         this_ind = normW1[i][1] \n",
    "#         cur_w1[:,this_ind] = np.zeros(d)\n",
    "#     assign_op = tf.assign(w_1, cur_w1)\n",
    "#     sess.run(assign_op)\n",
    "    \n",
    "    ## Connection Removal\n",
    "    cur_w1 =  w_1.eval(session=sess)   \n",
    "    for i in range(d):\n",
    "        for j in range(k):\n",
    "            this_norm = np.linalg.norm(cur_w1[i,j])\n",
    "            if this_norm <= connection_thresh:\n",
    "                cur_w1[i,j] = 0.0\n",
    "    assign_op = tf.assign(w_1, cur_w1)\n",
    "    sess.run(assign_op)\n",
    "    \n",
    "    ## Connection Removal in a node\n",
    "#     cur_w1 =  w_1.eval(session=sess)   \n",
    "#     normW1 = []\n",
    "#     for i in range(k):\n",
    "#         this_norm = np.linalg.norm(cur_w1[:,i])\n",
    "#         normW1.append((this_norm,i))\n",
    "#     normW1.sort()\n",
    "#     check = 0\n",
    "#     for i in range(s):\n",
    "#         this_ind = normW1[i][1] \n",
    "#         for j in range(d):\n",
    "#             this_norm = np.linalg.norm(cur_w1[j,this_ind])\n",
    "#             if this_norm <= connection_thresh:\n",
    "#                 cur_w1[j,this_ind] = 0.0\n",
    "#                 check += 1\n",
    "#     assign_op = tf.assign(w_1, cur_w1)\n",
    "#     sess.run(assign_op)\n",
    "    \n",
    "    print \"Epoch = \", epoch+1,\"training loss: \", loss ,\" test loss: \",test_loss \n",
    "    x_e.append(epoch+1)\n",
    "    y_tl2.append(loss)\n",
    "    acc2.append(test_loss)"
   ]
  },
  {
   "cell_type": "code",
   "execution_count": 42,
   "metadata": {},
   "outputs": [
    {
     "name": "stdout",
     "output_type": "stream",
     "text": [
      "Success\n"
     ]
    }
   ],
   "source": [
    "permList = list(itertools.permutations(range(k)))\n",
    "\n",
    "# w_p = tensorWeights[0]\n",
    "# w_p = np.random.normal(0, 0.1 , (k,d))\n",
    "w_p = np.transpose(sess.run(w_1))\n",
    "# v_p = tensorWeights[1]\n",
    "v_p = sess.run(w_2)\n",
    "temp = []\n",
    "for i in v_p:\n",
    "    temp.append(i[0])\n",
    "v_p = np.asarray(temp)\n",
    "for perm in permList:\n",
    "    w_pi = w_p[list(perm)]\n",
    "    v_pi = v_p[list(perm)]\n",
    "    \n",
    "    w_gt = np.transpose(W_gt)\n",
    "    \n",
    "    if sum(v_gt == v_pi) == k:\n",
    "        max_diff = 0\n",
    "        for i in range(k):\n",
    "            diff = np.linalg.norm(w_pi[i]-w_gt[i])/np.linalg.norm(w_gt)\n",
    "            if diff > max_diff:\n",
    "                max_diff = diff\n",
    "        if max_diff < 0.1:\n",
    "            print \"Success\"\n",
    "            break\n",
    "    else:\n",
    "        continue"
   ]
  },
  {
   "cell_type": "code",
   "execution_count": 22,
   "metadata": {
    "collapsed": true
   },
   "outputs": [],
   "source": [
    "import matplotlib.pyplot as plt"
   ]
  },
  {
   "cell_type": "code",
   "execution_count": 59,
   "metadata": {
    "collapsed": true
   },
   "outputs": [],
   "source": [
    "NT = 8\n",
    "\n",
    "y_tl0 = y_tl0[:NT]\n",
    "acc0 = acc0[:NT]\n",
    "\n",
    "y_tl1 = y_tl1[:NT]\n",
    "acc1 = acc1[:NT]\n",
    "\n",
    "y_tl2 = y_tl2[:NT]\n",
    "acc2 = acc2[:NT]\n",
    "\n",
    "y_tl3 = y_tl3[:NT]\n",
    "acc3 = acc3[:NT]\n",
    "\n",
    "y_tl4 = y_tl4[:NT]\n",
    "acc4 = acc4[:NT]\n",
    "x_e = x_e[:NT]"
   ]
  },
  {
   "cell_type": "code",
   "execution_count": 74,
   "metadata": {},
   "outputs": [
    {
     "data": {
      "image/png": "[encoded data removed]",
      "text/plain": [
       "<matplotlib.figure.Figure at 0x7f1083ff9f50>"
      ]
     },
     "metadata": {},
     "output_type": "display_data"
    },
    {
     "data": {
      "image/png": "[encoded data removed]",
      "text/plain": [
       "<matplotlib.figure.Figure at 0x7f1083f079d0>"
      ]
     },
     "metadata": {},
     "output_type": "display_data"
    }
   ],
   "source": [
    "fig, ax1 = plt.subplots()\n",
    "ax1.plot(x_e, y_tl0, 'blue', label=\"tensor\")\n",
    "# ax1.plot(x_e, y_tl, 'red', label=\"random\")\n",
    "# ax1.plot(x_e, y_tl1, 'red', label=\"s=0.05\")\n",
    "ax1.plot(x_e, y_tl2, 'green', label=\"s=0.10\")\n",
    "ax1.plot(x_e, y_tl3, 'black', label=\"s=0.20\")\n",
    "# ax1.plot(x_e, y_tl4, 'magenta', label=\"s=0.30\")\n",
    "ax1.set_xlabel('epochs', color=\"white\")\n",
    "# Make the y-axis label, ticks and tick labels match the line color.\n",
    "ax1.set_ylabel('training loss', color='white')\n",
    "ax1.tick_params('y', colors='white')\n",
    "ax1.tick_params('x', colors='white')\n",
    "l1 = ax1.legend(bbox_to_anchor=(1.1 ,0.5), loc=2, borderaxespad=0.)\n",
    "ax1.set_ylim([0.0,0.30])\n",
    "\n",
    "\n",
    "# ax2 = ax1.twinx()\n",
    "fig, ax2 = plt.subplots()\n",
    "ax2.plot(x_e, acc0, 'blue', label=\"tensor_test\")\n",
    "# ax2.plot(x_e, acc, 'red', label=\"random_acc\")\n",
    "# ax2.plot(x_e, acc1, 'red',label=\"s=0.05\")\n",
    "ax2.plot(x_e, acc2, 'green',label=\"s=0.10\")\n",
    "ax2.plot(x_e, acc3, 'black',label=\"s=0.20\")\n",
    "# ax2.plot(x_e, acc4, 'magenta',label=\"s=0.30\")\n",
    "ax2.set_ylabel('test error', color='white')\n",
    "ax2.tick_params('y', colors='white')\n",
    "ax2.tick_params('x', colors='white')\n",
    "ax2.set_xlabel('epochs', color=\"white\")\n",
    "l2 = ax2.legend(bbox_to_anchor=(1.1, 1), loc=2, borderaxespad=0.)\n",
    "ax2.set_ylim([0.0,0.30])\n",
    "\n",
    "# fig.tight_layout()\n",
    "plt.show()"
   ]
  }
 ],
 "metadata": {
  "kernelspec": {
   "display_name": "Python [conda env:tf-py2.7-mat]",
   "language": "python",
   "name": "conda-env-tf-py2.7-mat-py"
  },
  "language_info": {
   "codemirror_mode": {
    "name": "ipython",
    "version": 2
   },
   "file_extension": ".py",
   "mimetype": "text/x-python",
   "name": "python",
   "nbconvert_exporter": "python",
   "pygments_lexer": "ipython2",
   "version": "2.7.13"
  }
 },
 "nbformat": 4,
 "nbformat_minor": 2
}
