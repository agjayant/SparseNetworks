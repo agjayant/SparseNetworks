{
 "cells": [
  {
   "cell_type": "code",
   "execution_count": 24,
   "metadata": {
    "collapsed": true
   },
   "outputs": [],
   "source": [
    "import numpy as np\n",
    "import tensorflow as tf\n",
    "import random, math\n",
    "import sktensor"
   ]
  },
  {
   "cell_type": "code",
   "execution_count": 25,
   "metadata": {
    "collapsed": true
   },
   "outputs": [],
   "source": [
    "## Hyper-Parameters\n",
    "n = 1000 # number of samples\n",
    "d = 10  # input dimension\n",
    "k = 5   # hidden layer size\n",
    "kappa = 2 \n",
    "T = 100 # num of epochs\n",
    "lr = 0.02\n",
    "batch_size = 20"
   ]
  },
  {
   "cell_type": "code",
   "execution_count": 26,
   "metadata": {
    "collapsed": true
   },
   "outputs": [],
   "source": [
    "## Activation Function\n",
    "def phi(h):\n",
    "    return h**2 if h > 0 else 0\n",
    "phi = np.vectorize(phi)"
   ]
  },
  {
   "cell_type": "code",
   "execution_count": 27,
   "metadata": {
    "collapsed": true
   },
   "outputs": [],
   "source": [
    "## Data and Params Generation\n",
    "\n",
    "gauss_mat = np.random.normal(0.0, 0.1 , (d,k))\n",
    "U, V = np.linalg.qr(gauss_mat) \n",
    "\n",
    "### TODO: U,V both are orthogonal and come from different gaussian matrices\n",
    "\n",
    "diag = []\n",
    "v_gt = []\n",
    "v_choice = [1,-1]\n",
    "for iter in range(k):\n",
    "    diag.append(1+1.*iter*(kappa-1)/(k-1))\n",
    "    v_gt.append(random.choice(v_choice))\n",
    "    \n",
    "Sigma = np.diag(diag)\n",
    "W_gt = np.dot(np.dot(U, Sigma), np.transpose(V))\n",
    "v_gt = np.asarray(v_gt)\n",
    "train_x = []\n",
    "train_y = []\n",
    "for iter in range(n):\n",
    "    train_x.append(np.random.normal(0.0,1.,d))\n",
    "    train_y.append(np.dot(phi(np.dot(train_x[iter], W_gt)),v_gt))\n",
    "train_x = np.asarray(train_x)\n",
    "train_y = np.transpose(np.asarray(train_y))"
   ]
  },
  {
   "cell_type": "code",
   "execution_count": 29,
   "metadata": {
    "collapsed": true
   },
   "outputs": [],
   "source": [
    "def outer3(a,b,c):\n",
    "    A = np.outer(a,b)\n",
    "    B = []\n",
    "    for third in c:\n",
    "        B.append(A*third)\n",
    "    return np.asarray(B)\n",
    "\n",
    "def outer4(a,b,c,d):\n",
    "    A = outer3(a,b,c)\n",
    "    B = []\n",
    "    for fourth in d:\n",
    "        B.append(A*fourth)\n",
    "    return np.asarray(B)\n",
    "\n",
    "def outer3I(x):\n",
    "    return outer3(x,x,x)\n",
    "\n",
    "def outer4I(x):\n",
    "    return outer4(x,x,x,x)\n",
    "\n",
    "def specOuterI(x):\n",
    "    d = len(x)\n",
    "    iden = np.identity(d)\n",
    "    final = np.zeros([d,d,d])\n",
    "    for i in range(d):\n",
    "        final += outer3(x, iden[i], iden[i]) + outer3(iden[i], x, iden[i])+ outer3(iden[i], iden[i],x)\n",
    "    return final\n",
    "\n",
    "def specOuterMat(M):\n",
    "    d = np.shape(M)[0]\n",
    "    ## TODO\n",
    "    return np.zeros([d,d,d,d])\n",
    "    \n",
    "    "
   ]
  },
  {
   "cell_type": "code",
   "execution_count": 30,
   "metadata": {
    "collapsed": true
   },
   "outputs": [],
   "source": [
    "def multLnr(M, argList):\n",
    "    if len(np.shape(M)) == 3:\n",
    "        a,b,c = argList\n",
    "\n",
    "        assert(np.shape(M)[0] == np.shape(a)[0])\n",
    "        assert(np.shape(M)[1] == np.shape(b)[0])\n",
    "        assert(np.shape(M)[2] == np.shape(c)[0])\n",
    "        ## HardCoding Here :: TODO\n",
    "        res = np.zeros([np.shape(a)[-1],np.shape(b)[-1] ])\n",
    "        for itera in range(np.shape(a)[0]):\n",
    "            for iterb in range(np.shape(b)[0]):\n",
    "                for iterc in range(np.shape(c)[0]):\n",
    "                    res += M[itera, iterb, iterc]*c[iterc]*np.outer(a[itera], b[iterb])\n",
    "        return res\n",
    "    else:\n",
    "        assert(len(np.shape(M)) == 4)\n",
    "        a,b,c,d = argList\n",
    "        if len(np.shape(c)) == 2:\n",
    "            pass\n",
    "        else:\n",
    "            res = np.zeros([np.shape(a)[-1],np.shape(b)[-1] ])\n",
    "            for itera in range(np.shape(a)[0]):\n",
    "                for iterb in range(np.shape(b)[0]):\n",
    "                    for iterc in range(np.shape(c)[0]):\n",
    "                        for iterd in range(np.shape(d)[0]):\n",
    "                            res += M[itera, iterb, iterc]*c[iterc]*d[iterd]*np.outer(a[itera], b[iterb])\n",
    "            return res\n",
    "    \n",
    "        "
   ]
  },
  {
   "cell_type": "code",
   "execution_count": 31,
   "metadata": {
    "collapsed": true
   },
   "outputs": [],
   "source": [
    "def prob(x):\n",
    "    return math.pow(math.e, -0.5*np.dot(np.transpose(x),x))/np.sqrt(math.pow(2*math.pi, len(x)))\n",
    "\n",
    "def getM1(X, y):\n",
    "    M1 = np.zeros(d)\n",
    "    for iter in range(np.shape(X)[0]):\n",
    "        M1 += y[iter]*X[iter]*prob(X[iter])\n",
    "    return M1\n",
    "\n",
    "def getM2(X, y):\n",
    "    M2 = np.zeros([d,d])\n",
    "    for iter in range(np.shape(X)[0]):\n",
    "        M2 += y[iter]*(np.outer(X[iter], X[iter]) - np.identity(d))*prob(X[iter])\n",
    "    return M2\n",
    "\n",
    "def getM3(X, y):\n",
    "    M3 = np.zeros([d,d,d])\n",
    "    for iter in range(np.shape(X)[0]):\n",
    "        M3 += y[iter]*(outer3I(X[iter]) - specOuterI(X[iter]) )*prob(X[iter])\n",
    "    return M3\n",
    "\n",
    "def getM4(X, y):\n",
    "    M4 = np.zeros([d,d,d,d])\n",
    "    for iter in range(np.shape(X)[0]):\n",
    "        M4 += y[iter]*(outer4I(X[iter]) - specOuterMat(np.outer(X[iter], X[iter])) + specOuterMat(np.identity(d)) )*prob(X[iter])\n",
    "    return M4"
   ]
  },
  {
   "cell_type": "code",
   "execution_count": 50,
   "metadata": {},
   "outputs": [],
   "source": [
    "def getP2V(V, X, y, k):\n",
    "    d = np.shape(X)[1]\n",
    "    P2V = np.zeros((d,k))\n",
    "    for i in range(len(X)):\n",
    "        P2V += y[i]*(np.dot(np.transpose([X[i]]), np.dot([X[i]], V) ) - V)\n",
    "    return P2V/np.shape(X)[0]\n",
    "        \n",
    "def topk(eigenV, k):\n",
    "    sortList = []\n",
    "    for i in range(2):\n",
    "        for j in range(k):\n",
    "            sortList.append([eigenV[i,j], (i,j)])\n",
    "    sortList.sort(reverse=True)\n",
    "    k1 = 0\n",
    "    k2 = 0\n",
    "    pi1 = {}\n",
    "    pi2 = {}\n",
    "    for i in range(k):\n",
    "        if sortList[i][1][0] == 0:\n",
    "            pi1[k1] = sortList[i][1][1]\n",
    "            k1 += 1\n",
    "        else:\n",
    "            pi2[k2] = sortList[i][1][1]\n",
    "            k2 += 1\n",
    "    return pi1, pi2, k1, k2\n",
    "    "
   ]
  },
  {
   "cell_type": "code",
   "execution_count": 64,
   "metadata": {
    "collapsed": true
   },
   "outputs": [],
   "source": [
    "def powMeth(P2, k, X, y):\n",
    "    C = 3*np.linalg.norm(P2)\n",
    "    T = 10\n",
    "    d =  np.shape(P2)[0]\n",
    "    V1 = np.random.normal(0.0, 0.1 , (d,k))\n",
    "    V2 = np.random.normal(0.0, 0.1 , (d,k))\n",
    "    \n",
    "    for i in range(T):\n",
    "        P2V1 = getP2V(V1, X, y, k)\n",
    "        P2V2 = getP2V(V2, X, y, k)\n",
    "        V1, temp = np.linalg.qr(C*V1 + P2V1)\n",
    "        V2, temp = np.linalg.qr(C*V2 - P2V2)\n",
    "    \n",
    "    eigenV = np.zeros((2,k))\n",
    "    for i in range(k):\n",
    "        eigenV[0,i] = abs( np.dot(np.transpose(V1[:,i]) , np.dot(P2, V1[:,i])) )\n",
    "    for i in range(k):\n",
    "        eigenV[1,i] = abs(np.dot(np.transpose(V2[:,i]) , np.dot(P2, V2[:,i])))\n",
    "    \n",
    "    pi1, pi2, k1, k2 = topk(eigenV, k)\n",
    "    \n",
    "    V1_new = np.zeros((d,k1))\n",
    "    V2_new = np.zeros((d,k2))\n",
    "    \n",
    "    for i in range(k1):\n",
    "        V1_new[:,i] = V1[:,pi1[i]]\n",
    "    for i in range(k2):\n",
    "        V2_new[:,i] = V2[:,pi2[i]]\n",
    "    V2_new, temp = np.linalg.qr(np.dot(np.identity(d)-np.dot(V1_new, np.transpose(V1_new)), V2_new))\n",
    "    return np.concatenate((V1_new, V2_new), axis=1)\n",
    "    "
   ]
  },
  {
   "cell_type": "code",
   "execution_count": 66,
   "metadata": {},
   "outputs": [],
   "source": [
    "def tensorInit(X, y):\n",
    "    divInd = int(len(X)/3)\n",
    "    \n",
    "    # Partition\n",
    "    X1 = X[:divInd]\n",
    "    y1 = y[:divInd]\n",
    "\n",
    "    X2 = X[divInd:2*divInd]\n",
    "    y2 = y[divInd:2*divInd]\n",
    "    \n",
    "    X3 = X[2*divInd:]\n",
    "    y3 = y[2*divInd:]\n",
    "    \n",
    "    ## P2 \n",
    "    ## Estimating P2 as M2 :: TODO\n",
    "#     alpha = np.random.normal(0.0, 0.1 , d)\n",
    "    P2 = getM2(X1,y1)\n",
    "\n",
    "    ## Power Method Implementation\n",
    "    V = powMeth(P2, k, X, y)\n",
    "    return V\n",
    "    ## R3\n",
    "\n",
    "    #### KCL\n",
    "\n",
    "    ## RecMagSign"
   ]
  },
  {
   "cell_type": "code",
   "execution_count": 65,
   "metadata": {},
   "outputs": [
    {
     "name": "stdout",
     "output_type": "stream",
     "text": [
      "(10, 5)\n",
      "[[ 0.54693341  0.23011133 -0.04969114 -0.07611046 -0.13073975]\n",
      " [-0.28040814 -0.21058383  0.45627516 -0.22335421  0.02269375]\n",
      " [-0.30682575  0.2117943   0.19825693  0.18512455 -0.16185237]\n",
      " [-0.09958932  0.05448921  0.24759206 -0.19535448 -0.12886016]\n",
      " [-0.16097281 -0.21388614  0.11311807 -0.53921491 -0.26830226]\n",
      " [-0.2072253  -0.2456396  -0.16767484 -0.16195686 -0.54071707]\n",
      " [ 0.19018278  0.06906144 -0.32467414  0.06104643 -0.65811154]\n",
      " [ 0.21584131  0.16007187  0.70040824  0.37497358 -0.35985905]\n",
      " [-0.2024861  -0.56300056 -0.12040474  0.6291892  -0.07480357]\n",
      " [ 0.57058119 -0.63358434  0.1932441  -0.12121048  0.08381541]]\n"
     ]
    }
   ],
   "source": [
    "tensorInit(train_x, train_y)"
   ]
  },
  {
   "cell_type": "code",
   "execution_count": null,
   "metadata": {
    "collapsed": true
   },
   "outputs": [],
   "source": [
    "def init_weights(shape):\n",
    "    \"\"\" Weight initialization \"\"\"\n",
    "    weights = tf.random_normal(shape, stddev=0.1)\n",
    "    return tf.Variable(weights)\n",
    "\n",
    "def forwardprop(X, w_1, w_2):\n",
    "    \"\"\"\n",
    "    Forward-propagation.\n",
    "    \"\"\"\n",
    "    h    = tf.square(tf.nn.relu((tf.matmul(X, w_1))))\n",
    "    yhat = tf.matmul(h, w_2)  # The \\varphi function\n",
    "    return yhat"
   ]
  },
  {
   "cell_type": "code",
   "execution_count": null,
   "metadata": {
    "collapsed": true
   },
   "outputs": [],
   "source": [
    "X = tf.placeholder(\"float\", shape=[None, d])\n",
    "y = tf.placeholder(\"float\", shape=[None, 1])\n",
    "\n",
    "# Weight initializations\n",
    "w_1 = init_weights((d, k))\n",
    "w_2 = init_weights((k, 1))\n",
    "\n",
    "# Forward propagation\n",
    "yhat  = forwardprop(X, w_1, w_2)\n",
    "\n",
    "# Backward propagation\n",
    "cost = tf.losses.mean_squared_error(y, yhat)\n",
    "updates = tf.train.GradientDescentOptimizer(lr).minimize(cost)\n",
    "\n",
    "# Run SGD\n",
    "config = tf.ConfigProto()\n",
    "config.gpu_options.allow_growth = True\n",
    "sess = tf.Session(config=config)\n",
    "init = tf.global_variables_initializer()\n",
    "sess.run(init)\n",
    "epsilon = 1e-4\n",
    "for epoch in range(T):\n",
    "    # Train with each example\n",
    "    i = 0\n",
    "    for iter in range(int(n/batch_size)):\n",
    "        sess.run(updates, feed_dict={X: train_x[i: i + batch_size], y: train_y[i: i + batch_size].reshape(batch_size,1)})\n",
    "        i = (i + batch_size)%n\n",
    "    train_accuracy = np.mean((train_y - sess.run(yhat, feed_dict={X:train_x, y:train_y.reshape(n,1)})) <= epsilon)\n",
    "    print(\"Epoch = \", epoch+1,\" train Acc: \",100.*train_accuracy )"
   ]
  }
 ],
 "metadata": {
  "kernelspec": {
   "display_name": "Python [conda env:tf-py3.6]",
   "language": "python",
   "name": "conda-env-tf-py3.6-py"
  },
  "language_info": {
   "codemirror_mode": {
    "name": "ipython",
    "version": 3
   },
   "file_extension": ".py",
   "mimetype": "text/x-python",
   "name": "python",
   "nbconvert_exporter": "python",
   "pygments_lexer": "ipython3",
   "version": "3.6.2"
  }
 },
 "nbformat": 4,
 "nbformat_minor": 2
}
