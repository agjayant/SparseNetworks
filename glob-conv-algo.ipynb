{
 "cells": [
  {
   "cell_type": "code",
   "execution_count": 1,
   "metadata": {},
   "outputs": [],
   "source": [
    "import numpy as np\n",
    "import tensorflow as tf\n",
    "import random, math\n",
    "import sktensor"
   ]
  },
  {
   "cell_type": "code",
   "execution_count": 7,
   "metadata": {
    "collapsed": true
   },
   "outputs": [],
   "source": [
    "## Hyper-Parameters\n",
    "n = 1000 # number of samples\n",
    "d = 10  # input dimension\n",
    "k = 5   # hidden layer size\n",
    "kappa = 2 \n",
    "T = 100 # num of epochs\n",
    "lr = 0.02\n",
    "batch_size = 20"
   ]
  },
  {
   "cell_type": "code",
   "execution_count": 8,
   "metadata": {
    "collapsed": true
   },
   "outputs": [],
   "source": [
    "## Activation Function\n",
    "def phi(h):\n",
    "    return h**2 if h > 0 else 0\n",
    "phi = np.vectorize(phi)"
   ]
  },
  {
   "cell_type": "code",
   "execution_count": 9,
   "metadata": {
    "collapsed": true
   },
   "outputs": [],
   "source": [
    "## Data and Params Generation\n",
    "\n",
    "gauss_mat = np.random.normal(0.0, 0.1 , (d,k))\n",
    "U, V = np.linalg.qr(gauss_mat) \n",
    "\n",
    "### TODO: U,V both are orthogonal and come from different gaussian matrices\n",
    "\n",
    "diag = []\n",
    "v_gt = []\n",
    "v_choice = [1,-1]\n",
    "for iter in range(k):\n",
    "    diag.append(1+1.*iter*(kappa-1)/(k-1))\n",
    "    v_gt.append(random.choice(v_choice))\n",
    "    \n",
    "Sigma = np.diag(diag)\n",
    "W_gt = np.dot(np.dot(U, Sigma), np.transpose(V))\n",
    "v_gt = np.asarray(v_gt)\n",
    "train_x = []\n",
    "train_y = []\n",
    "for iter in range(n):\n",
    "    train_x.append(np.random.normal(0.0,1.,d))\n",
    "    train_y.append(np.dot(phi(np.dot(train_x[iter], W_gt)),v_gt))\n",
    "train_x = np.asarray(train_x)\n",
    "train_y = np.transpose(np.asarray(train_y))"
   ]
  },
  {
   "cell_type": "code",
   "execution_count": 10,
   "metadata": {
    "collapsed": true
   },
   "outputs": [],
   "source": [
    "def outer3(a,b,c):\n",
    "    A = np.outer(a,b)\n",
    "    B = []\n",
    "    for third in c:\n",
    "        B.append(A*third)\n",
    "    return np.asarray(B)\n",
    "\n",
    "def outer4(a,b,c,d):\n",
    "    A = outer3(a,b,c)\n",
    "    B = []\n",
    "    for fourth in d:\n",
    "        B.append(A*fourth)\n",
    "    return np.asarray(B)\n",
    "\n",
    "def outer3I(x):\n",
    "    return outer3(x,x,x)\n",
    "\n",
    "def outer4I(x):\n",
    "    return outer4(x,x,x,x)\n",
    "\n",
    "def specOuterI(x):\n",
    "    d = len(x)\n",
    "    iden = np.identity(d)\n",
    "    final = np.zeros([d,d,d])\n",
    "    for i in range(d):\n",
    "        final += outer3(x, iden[i], iden[i]) + outer3(iden[i], x, iden[i])+ outer3(iden[i], iden[i],x)\n",
    "    return final\n",
    "\n",
    "def specOuterMat(M):\n",
    "    d = np.shape(M)[0]\n",
    "    ## TODO\n",
    "    return np.zeros([d,d,d,d])\n",
    "    \n",
    "    "
   ]
  },
  {
   "cell_type": "code",
   "execution_count": 26,
   "metadata": {
    "collapsed": true
   },
   "outputs": [],
   "source": [
    "def multLnr(M, argList):\n",
    "    if len(np.shape(M)) == 3:\n",
    "        a,b,c = argList\n",
    "\n",
    "        assert(np.shape(M)[0] == np.shape(a)[0])\n",
    "        assert(np.shape(M)[1] == np.shape(b)[0])\n",
    "        assert(np.shape(M)[2] == np.shape(c)[0])\n",
    "        ## HardCoding Here :: TODO\n",
    "        res = np.zeros([np.shape(a)[-1],np.shape(b)[-1] ])\n",
    "        for itera in range(np.shape(a)[0]):\n",
    "            for iterb in range(np.shape(b)[0]):\n",
    "                for iterc in range(np.shape(c)[0]):\n",
    "                    res += M[itera, iterb, iterc]*c[iterc]*np.outer(a[itera], b[iterb])\n",
    "        return res\n",
    "    else:\n",
    "        assert(len(np.shape(M)) == 4)\n",
    "        a,b,c,d = argList\n",
    "        if len(np.shape(c)) == 2:\n",
    "            pass\n",
    "        else:\n",
    "            res = np.zeros([np.shape(a)[-1],np.shape(b)[-1] ])\n",
    "            for itera in range(np.shape(a)[0]):\n",
    "                for iterb in range(np.shape(b)[0]):\n",
    "                    for iterc in range(np.shape(c)[0]):\n",
    "                        for iterd in range(np.shape(d)[0]):\n",
    "                            res += M[itera, iterb, iterc]*c[iterc]*d[iterd]*np.outer(a[itera], b[iterb])\n",
    "            return res\n",
    "    \n",
    "        "
   ]
  },
  {
   "cell_type": "code",
   "execution_count": 12,
   "metadata": {
    "collapsed": true
   },
   "outputs": [],
   "source": [
    "def prob(x):\n",
    "    return math.pow(math.e, -0.5*np.dot(np.transpose(x),x))/np.sqrt(math.pow(2*math.pi, len(x)))\n",
    "\n",
    "def getM1(X, y):\n",
    "    M1 = np.zeros(d)\n",
    "    for iter in range(np.shape(X)[0]):\n",
    "        M1 += y[iter]*X[iter]*prob(X[iter])\n",
    "    return M1\n",
    "\n",
    "def getM2(X, y):\n",
    "    M2 = np.zeros([d,d])\n",
    "    for iter in range(np.shape(X)[0]):\n",
    "        M2 += y[iter]*(np.outer(X[iter], X[iter]) - np.identity(d))*prob(X[iter])\n",
    "    return M2\n",
    "\n",
    "def getM3(X, y):\n",
    "    M3 = np.zeros([d,d,d])\n",
    "    for iter in range(np.shape(X)[0]):\n",
    "        M3 += y[iter]*(outer3I(X[iter]) - specOuterI(X[iter]) )*prob(X[iter])\n",
    "    return M3\n",
    "\n",
    "def getM4(X, y):\n",
    "    M4 = np.zeros([d,d,d,d])\n",
    "    for iter in range(np.shape(X)[0]):\n",
    "        M4 += y[iter]*(outer4I(X[iter]) - specOuterMat(np.outer(X[iter], X[iter])) + specOuterMat(np.identity(d)) )*prob(X[iter])\n",
    "    return M4"
   ]
  },
  {
   "cell_type": "code",
   "execution_count": 33,
   "metadata": {
    "collapsed": true
   },
   "outputs": [],
   "source": [
    "def powMeth(P2, k):\n",
    "    pass"
   ]
  },
  {
   "cell_type": "code",
   "execution_count": 31,
   "metadata": {
    "collapsed": true
   },
   "outputs": [],
   "source": [
    "def tensorInit(X, y):\n",
    "    divInd = int(len(X)/3)\n",
    "    \n",
    "    # Partition\n",
    "    X1 = X[:divInd]\n",
    "    y1 = y[:divInd]\n",
    "\n",
    "    X2 = X[divInd:2*divInd]\n",
    "    y2 = y[divInd:2*divInd]\n",
    "    \n",
    "    X3 = X[2*divInd:]\n",
    "    y3 = y[2*divInd:]\n",
    "    \n",
    "    ## P2 \n",
    "    ## Estimating P2 as M2 :: TODO\n",
    "#     alpha = np.random.normal(0.0, 0.1 , d)\n",
    "    P2 = getM2(X1,y1)\n",
    "\n",
    "    ## Power Method Implementation\n",
    "    V = powMeth(P2, k)\n",
    "    ## R3\n",
    "\n",
    "    #### KCL\n",
    "\n",
    "    ## RecMagSign"
   ]
  },
  {
   "cell_type": "code",
   "execution_count": 32,
   "metadata": {},
   "outputs": [
    {
     "data": {
      "text/plain": [
       "array([[ -9.56671526e-06,   7.99149357e-06,   2.26556524e-05,\n",
       "         -4.32454908e-06,  -4.46601439e-06,  -2.22900401e-06,\n",
       "          4.48230322e-06,   9.13876919e-06,   9.45548315e-06,\n",
       "         -2.20032182e-05],\n",
       "       [  7.99149357e-06,  -1.95642951e-06,  -1.67658720e-05,\n",
       "         -1.22704955e-05,  -3.09640996e-06,   1.26832541e-05,\n",
       "          4.59272506e-08,  -6.22568212e-06,  -6.55393105e-06,\n",
       "          7.14470631e-06],\n",
       "       [  2.26556524e-05,  -1.67658720e-05,  -1.83635585e-05,\n",
       "         -2.43668630e-05,   8.63044533e-06,   2.69849648e-05,\n",
       "          8.77595287e-06,  -9.65382537e-06,   2.81117337e-05,\n",
       "         -1.16203810e-05],\n",
       "       [ -4.32454908e-06,  -1.22704955e-05,  -2.43668630e-05,\n",
       "         -1.59600604e-05,   1.19334908e-05,  -1.03808557e-05,\n",
       "         -5.90755833e-06,  -8.91514081e-06,  -1.01800295e-05,\n",
       "          1.23759618e-05],\n",
       "       [ -4.46601439e-06,  -3.09640996e-06,   8.63044533e-06,\n",
       "          1.19334908e-05,   2.06746037e-06,  -4.82089225e-06,\n",
       "          2.60850868e-06,  -1.71195461e-06,  -1.02123057e-05,\n",
       "          7.79559063e-06],\n",
       "       [ -2.22900401e-06,   1.26832541e-05,   2.69849648e-05,\n",
       "         -1.03808557e-05,  -4.82089225e-06,  -2.35574273e-05,\n",
       "          6.91350084e-07,   1.35231274e-05,  -1.35419417e-06,\n",
       "         -1.53716442e-05],\n",
       "       [  4.48230322e-06,   4.59272506e-08,   8.77595287e-06,\n",
       "         -5.90755833e-06,   2.60850868e-06,   6.91350084e-07,\n",
       "         -1.56735473e-05,   1.97739265e-06,  -8.42537224e-06,\n",
       "         -1.37568214e-05],\n",
       "       [  9.13876919e-06,  -6.22568212e-06,  -9.65382537e-06,\n",
       "         -8.91514081e-06,  -1.71195461e-06,   1.35231274e-05,\n",
       "          1.97739265e-06,  -2.73504031e-05,   1.37913975e-05,\n",
       "          3.60074889e-06],\n",
       "       [  9.45548315e-06,  -6.55393105e-06,   2.81117337e-05,\n",
       "         -1.01800295e-05,  -1.02123057e-05,  -1.35419417e-06,\n",
       "         -8.42537224e-06,   1.37913975e-05,  -2.04119069e-05,\n",
       "         -1.73684866e-05],\n",
       "       [ -2.20032182e-05,   7.14470631e-06,  -1.16203810e-05,\n",
       "          1.23759618e-05,   7.79559063e-06,  -1.53716442e-05,\n",
       "         -1.37568214e-05,   3.60074889e-06,  -1.73684866e-05,\n",
       "         -9.01290516e-06]])"
      ]
     },
     "execution_count": 32,
     "metadata": {},
     "output_type": "execute_result"
    }
   ],
   "source": [
    "tensorInit(train_x, train_y)"
   ]
  },
  {
   "cell_type": "code",
   "execution_count": null,
   "metadata": {
    "collapsed": true
   },
   "outputs": [],
   "source": [
    "def init_weights(shape):\n",
    "    \"\"\" Weight initialization \"\"\"\n",
    "    weights = tf.random_normal(shape, stddev=0.1)\n",
    "    return tf.Variable(weights)\n",
    "\n",
    "def forwardprop(X, w_1, w_2):\n",
    "    \"\"\"\n",
    "    Forward-propagation.\n",
    "    \"\"\"\n",
    "    h    = tf.square(tf.nn.relu((tf.matmul(X, w_1))))\n",
    "    yhat = tf.matmul(h, w_2)  # The \\varphi function\n",
    "    return yhat"
   ]
  },
  {
   "cell_type": "code",
   "execution_count": null,
   "metadata": {
    "collapsed": true
   },
   "outputs": [],
   "source": [
    "X = tf.placeholder(\"float\", shape=[None, d])\n",
    "y = tf.placeholder(\"float\", shape=[None, 1])\n",
    "\n",
    "# Weight initializations\n",
    "w_1 = init_weights((d, k))\n",
    "w_2 = init_weights((k, 1))\n",
    "\n",
    "# Forward propagation\n",
    "yhat  = forwardprop(X, w_1, w_2)\n",
    "\n",
    "# Backward propagation\n",
    "cost = tf.losses.mean_squared_error(y, yhat)\n",
    "updates = tf.train.GradientDescentOptimizer(lr).minimize(cost)\n",
    "\n",
    "# Run SGD\n",
    "config = tf.ConfigProto()\n",
    "config.gpu_options.allow_growth = True\n",
    "sess = tf.Session(config=config)\n",
    "init = tf.global_variables_initializer()\n",
    "sess.run(init)\n",
    "epsilon = 1e-4\n",
    "for epoch in range(T):\n",
    "    # Train with each example\n",
    "    i = 0\n",
    "    for iter in range(int(n/batch_size)):\n",
    "        sess.run(updates, feed_dict={X: train_x[i: i + batch_size], y: train_y[i: i + batch_size].reshape(batch_size,1)})\n",
    "        i = (i + batch_size)%n\n",
    "    train_accuracy = np.mean((train_y - sess.run(yhat, feed_dict={X:train_x, y:train_y.reshape(n,1)})) <= epsilon)\n",
    "    print(\"Epoch = \", epoch+1,\" train Acc: \",100.*train_accuracy )"
   ]
  }
 ],
 "metadata": {
  "kernelspec": {
   "display_name": "Python [conda env:tf-py3.6]",
   "language": "python",
   "name": "conda-env-tf-py3.6-py"
  },
  "language_info": {
   "codemirror_mode": {
    "name": "ipython",
    "version": 3
   },
   "file_extension": ".py",
   "mimetype": "text/x-python",
   "name": "python",
   "nbconvert_exporter": "python",
   "pygments_lexer": "ipython3",
   "version": "3.6.2"
  }
 },
 "nbformat": 4,
 "nbformat_minor": 2
}
