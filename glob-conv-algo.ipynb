{
 "cells": [
  {
   "cell_type": "code",
   "execution_count": 1,
   "metadata": {
    "collapsed": true
   },
   "outputs": [],
   "source": [
    "import numpy as np\n",
    "import tensorflow as tf\n",
    "import random, math\n",
    "import matlab\n",
    "import matlab.engine as me\n",
    "import itertools\n",
    "from myTensorUtil import *\n",
    "from powMeth import *\n",
    "from recmagsign import *"
   ]
  },
  {
   "cell_type": "code",
   "execution_count": 6,
   "metadata": {
    "collapsed": true
   },
   "outputs": [],
   "source": [
    "## Hyper-Parameters\n",
    "n = 2000 # number of samples\n",
    "d = 10  # input dimension\n",
    "k = 5   # hidden layer size\n",
    "kappa = 2 \n",
    "lr = 0.02\n",
    "batch_size = 10"
   ]
  },
  {
   "cell_type": "code",
   "execution_count": 7,
   "metadata": {
    "collapsed": true
   },
   "outputs": [],
   "source": [
    "## Activation Function\n",
    "def phi_s(h):\n",
    "    return h**2 if h > 0 else 0\n",
    "phi = np.vectorize(phi_s)"
   ]
  },
  {
   "cell_type": "code",
   "execution_count": 38,
   "metadata": {
    "collapsed": true
   },
   "outputs": [],
   "source": [
    "## Data and Params Generation\n",
    "\n",
    "gauss_mat_u = np.random.normal(0.0, 1.0 , (d,k))\n",
    "gauss_mat_v = np.random.normal(0.0, 1.0 , (k,k))\n",
    "\n",
    "U, temp = np.linalg.qr(gauss_mat_u)\n",
    "V, temp = np.linalg.qr(gauss_mat_v)\n",
    "\n",
    "# U, V = np.linalg.qr(gauss_mat_u)\n",
    "diag = []\n",
    "v_gt = []\n",
    "v_choice = [1,-1]\n",
    "for iter in range(k):\n",
    "    diag.append(1+1.*iter*(kappa-1)/(k-1))\n",
    "    v_gt.append(random.choice(v_choice))\n",
    "    \n",
    "Sigma = np.diag(diag)\n",
    "W_gt = np.dot(np.dot(U, Sigma), np.transpose(V))\n",
    "v_gt = np.asarray(v_gt)"
   ]
  },
  {
   "cell_type": "code",
   "execution_count": 39,
   "metadata": {},
   "outputs": [],
   "source": [
    "# s_gt = 1 \n",
    "# normW1 = []\n",
    "# for i in range(k):\n",
    "#     this_norm = np.linalg.norm(W_gt[:,i])\n",
    "#     normW1.append((this_norm,i))\n",
    "# normW1.sort()\n",
    "\n",
    "# for i in range(s_gt):\n",
    "#     this_ind = normW1[i][1] \n",
    "#     W_gt[:,this_ind] = np.zeros(d)\n",
    "    \n",
    "s_gt = 0.20\n",
    "for i in range(d):\n",
    "    for j in range(k):\n",
    "        this_norm = np.linalg.norm(W_gt[i,j])\n",
    "        if this_norm <= s_gt:\n",
    "            W_gt[i,j] = 0.0"
   ]
  },
  {
   "cell_type": "code",
   "execution_count": 40,
   "metadata": {},
   "outputs": [
    {
     "name": "stdout",
     "output_type": "stream",
     "text": [
      "[[ 0.         -1.14835177  0.         -0.26976937 -0.68683051]\n",
      " [ 0.4900093   0.58699654 -0.7967952   0.         -0.49389479]\n",
      " [-0.47073298  0.          0.36116872  0.          0.22346218]\n",
      " [ 0.          0.          0.32957708 -1.24918722 -0.35124633]\n",
      " [-0.47469512  0.          0.          0.          0.        ]\n",
      " [-0.32320885  0.         -0.56664861 -0.25529215  0.        ]\n",
      " [ 0.          0.43487299  1.08495537  0.5092584   0.        ]\n",
      " [ 0.28012795 -0.35278529  0.28221007 -0.59493574  0.76359282]\n",
      " [-0.56048913 -0.6089346   0.47484543  0.         -1.08011316]\n",
      " [ 0.53184928  0.          0.          0.33227614 -0.24484068]]\n",
      "(10, 5)\n"
     ]
    }
   ],
   "source": [
    "print W_gt\n",
    "print np.shape(W_gt)"
   ]
  },
  {
   "cell_type": "code",
   "execution_count": 41,
   "metadata": {
    "collapsed": true
   },
   "outputs": [],
   "source": [
    "train_x = []\n",
    "train_y = []\n",
    "for iter in range(n):\n",
    "    train_x.append(np.random.normal(0.0,1.,d))\n",
    "    train_y.append(np.dot(phi(np.dot(train_x[iter], W_gt)),v_gt))\n",
    "train_x = np.asarray(train_x)\n",
    "train_y = np.transpose(np.asarray(train_y))\n",
    "\n",
    "test_x = []\n",
    "test_y = []\n",
    "for iter in range(1000):\n",
    "    test_x.append(np.random.normal(0.0,1.,d))\n",
    "    test_y.append(np.dot(phi(np.dot(test_x[iter], W_gt)),v_gt))\n",
    "test_x = np.asarray(test_x)\n",
    "test_y = np.transpose(np.asarray(test_y))"
   ]
  },
  {
   "cell_type": "code",
   "execution_count": 42,
   "metadata": {
    "collapsed": true
   },
   "outputs": [],
   "source": [
    "## moments\n",
    "def gamma(j,sigma):\n",
    "    estm = 0\n",
    "    for i in range(10000):\n",
    "        z = np.random.normal(0.0, 1.0)\n",
    "        estm += phi_s(z*sigma)*(z**j)\n",
    "    return estm/10000\n",
    "\n",
    "m = np.zeros((4,k))\n",
    "for i in range(k):\n",
    "    m[0,i] = gamma(1,np.linalg.norm(W_gt[:,i]))\n",
    "    m[1,i] = gamma(2,np.linalg.norm(W_gt[:,i])) - gamma(0,np.linalg.norm(W_gt[:,i]))\n",
    "    m[2,i] = gamma(3,np.linalg.norm(W_gt[:,i])) - 3*gamma(1,np.linalg.norm(W_gt[:,i]))\n",
    "    m[3,i] = gamma(4,np.linalg.norm(W_gt[:,i])) + 3*gamma(0,np.linalg.norm(W_gt[:,i])) - 6*gamma(2,np.linalg.norm(W_gt[:,i]))"
   ]
  },
  {
   "cell_type": "code",
   "execution_count": null,
   "metadata": {
    "collapsed": true
   },
   "outputs": [],
   "source": [
    "# m[2,3]/np.linalg.norm(W_gt[:,3])**2"
   ]
  },
  {
   "cell_type": "code",
   "execution_count": null,
   "metadata": {
    "collapsed": true
   },
   "outputs": [],
   "source": [
    "# M =  np.asarray(getM2(train_x, train_y))\n",
    "\n",
    "# check = np.zeros((d,d))\n",
    "# # check = np.zeros(d)\n",
    "# for i in range(k):\n",
    "#     check += v_gt[i]*m[1,i]*np.outer(W_gt[:,i], W_gt[:,i])\n",
    "# #     check += v_gt[i]*m[0,i]*W_gt[:,i]\n",
    "# print check\n",
    "# print np.linalg.norm(M-check)/np.linalg.norm(check)\n",
    "# print np.linalg.norm(M-check)/np.linalg.norm(M)"
   ]
  },
  {
   "cell_type": "code",
   "execution_count": 43,
   "metadata": {
    "collapsed": true
   },
   "outputs": [],
   "source": [
    "def tensorInit(X, y):\n",
    "    divInd = int(len(X)/3)\n",
    "    \n",
    "    # Partition\n",
    "    X1 = X[:divInd]\n",
    "    y1 = y[:divInd]\n",
    "\n",
    "    X2 = X[divInd:2*divInd]\n",
    "    y2 = y[divInd:2*divInd]\n",
    "    \n",
    "    X3 = X[2*divInd:]\n",
    "    y3 = y[2*divInd:]\n",
    "    \n",
    "    ## P2 \n",
    "    ## Estimating P2 as M2\n",
    "    \n",
    "    ## Power Method\n",
    "    V = powMeth(k, X1, y1)\n",
    "    \n",
    "    ## R3\n",
    "    R3 = multLnr2(getM3(X2, y2), V)\n",
    "    \n",
    "    #### KCL\n",
    "    R = matlab.double(R3.flatten().tolist())\n",
    "    eng = me.start_matlab()\n",
    "    U = eng.notf_frompy(R, 100, k)\n",
    "    eng.quit()\n",
    "    U = np.asarray(U)\n",
    "    #U = R3[0]\n",
    "\n",
    "    ## RecMagSign\n",
    "    return recmagsgn(V, U, X3, y3, m, W_gt) "
   ]
  },
  {
   "cell_type": "code",
   "execution_count": 44,
   "metadata": {},
   "outputs": [],
   "source": [
    "X = train_x\n",
    "y = train_y\n",
    "divInd = int(len(X)/2)\n",
    "\n",
    "# Partition\n",
    "X1 = X[:divInd]\n",
    "y1 = y[:divInd]\n",
    "\n",
    "# X2 = X[divInd:2*divInd]\n",
    "# y2 = y[divInd:2*divInd]\n",
    "\n",
    "tensorWeights = tensorInit(train_x, train_y)\n",
    "# tensorWeights = tensorInit(X1, y1)"
   ]
  },
  {
   "cell_type": "code",
   "execution_count": 45,
   "metadata": {},
   "outputs": [
    {
     "name": "stdout",
     "output_type": "stream",
     "text": [
      "(5, 10)\n",
      "[[-0.31214948  0.64571072 -0.51599575  0.94830086 -0.63641048 -0.24644127\n",
      "   0.17625136  0.63911056 -0.53953022  0.42563912]\n",
      " [-0.66288337  0.22935389  0.24385255  0.28452376  0.25749979 -0.00820241\n",
      "   0.51262522 -0.51324407  0.02401289  0.05757391]\n",
      " [-0.38834397 -0.4063664   0.18433053  0.00461998  0.21061473  0.08416394\n",
      "   0.01515248  0.51693041 -0.63734386 -0.32168478]\n",
      " [ 0.31737273 -0.69437776  0.32706377  0.44479259  0.0264964  -0.33720976\n",
      "   0.55655436  0.03803156  0.29027243 -0.20469544]\n",
      " [ 0.01886652 -0.2427769  -0.11747336 -0.3483169  -0.16263722 -0.29913151\n",
      "   0.35690794  0.01297508  0.03024752  0.21683287]]\n"
     ]
    }
   ],
   "source": [
    "print np.shape(tensorWeights[0])\n",
    "print tensorWeights[0]"
   ]
  },
  {
   "cell_type": "code",
   "execution_count": 46,
   "metadata": {
    "collapsed": true
   },
   "outputs": [],
   "source": [
    "def init_weights(shape):\n",
    "    \"\"\" Weight initialization \"\"\"\n",
    "    weights = tf.random_normal(shape, stddev=1.0)\n",
    "    return tf.Variable(weights)\n",
    "\n",
    "def forwardprop(X, w_1, w_2):\n",
    "    \"\"\"\n",
    "    Forward-propagation.\n",
    "    \"\"\"\n",
    "    h    = tf.square(tf.nn.relu((tf.matmul(X, w_1))))\n",
    "    yhat = tf.matmul(h, w_2)  # The \\varphi function\n",
    "    return yhat"
   ]
  },
  {
   "cell_type": "code",
   "execution_count": 40,
   "metadata": {
    "collapsed": true
   },
   "outputs": [],
   "source": [
    "w_1 = init_weights((d, k))\n",
    "w_1_random = tf.Variable(tf.cast(w_1, tf.float64))"
   ]
  },
  {
   "cell_type": "code",
   "execution_count": 67,
   "metadata": {},
   "outputs": [
    {
     "name": "stdout",
     "output_type": "stream",
     "text": [
      "Epoch =  1 training loss:  9.01861  test loss:  11.7268\n",
      "Epoch =  2 training loss:  4.5883  test loss:  6.36219\n",
      "Epoch =  3 training loss:  1.45815  test loss:  1.75604\n",
      "Epoch =  4 training loss:  0.921223  test loss:  1.04092\n",
      "Epoch =  5 training loss:  0.752338  test loss:  0.855457\n",
      "Epoch =  6 training loss:  0.662395  test loss:  0.747965\n",
      "Epoch =  7 training loss:  0.615064  test loss:  0.706421\n",
      "Epoch =  8 training loss:  0.592055  test loss:  0.66776\n",
      "Epoch =  9 training loss:  0.570745  test loss:  0.638844\n",
      "Epoch =  10 training loss:  0.540851  test loss:  0.621787\n",
      "Epoch =  11 training loss:  0.52248  test loss:  0.597956\n",
      "Epoch =  12 training loss:  0.47317  test loss:  0.536007\n",
      "Epoch =  13 training loss:  0.458393  test loss:  0.530638\n",
      "Epoch =  14 training loss:  0.428251  test loss:  0.502284\n",
      "Epoch =  15 training loss:  0.36386  test loss:  0.436152\n",
      "Epoch =  16 training loss:  0.296002  test loss:  0.3367\n",
      "Epoch =  17 training loss:  0.249395  test loss:  0.287171\n",
      "Epoch =  18 training loss:  0.215421  test loss:  0.246844\n",
      "Epoch =  19 training loss:  0.190191  test loss:  0.209396\n",
      "Epoch =  20 training loss:  0.17352  test loss:  0.191235\n",
      "Epoch =  21 training loss:  0.162352  test loss:  0.175605\n",
      "Epoch =  22 training loss:  0.142573  test loss:  0.159294\n",
      "Epoch =  23 training loss:  0.13763  test loss:  0.157872\n",
      "Epoch =  24 training loss:  0.136245  test loss:  0.148922\n",
      "Epoch =  25 training loss:  0.133494  test loss:  0.15035\n",
      "Epoch =  26 training loss:  0.131343  test loss:  0.145208\n",
      "Epoch =  27 training loss:  0.132697  test loss:  0.152114\n",
      "Epoch =  28 training loss:  0.134408  test loss:  0.152266\n",
      "Epoch =  29 training loss:  0.13065  test loss:  0.145237\n",
      "Epoch =  30 training loss:  0.133102  test loss:  0.149817\n",
      "Epoch =  31 training loss:  0.1312  test loss:  0.144375\n",
      "Epoch =  32 training loss:  0.130177  test loss:  0.145529\n",
      "Epoch =  33 training loss:  0.130248  test loss:  0.146334\n",
      "Epoch =  34 training loss:  0.131672  test loss:  0.143963\n",
      "Epoch =  35 training loss:  0.130762  test loss:  0.150387\n",
      "Epoch =  36 training loss:  0.111889  test loss:  0.128893\n",
      "Epoch =  37 training loss:  0.104313  test loss:  0.121163\n",
      "Epoch =  38 training loss:  0.101616  test loss:  0.11826\n",
      "Epoch =  39 training loss:  0.100781  test loss:  0.117621\n",
      "Epoch =  40 training loss:  0.0996136  test loss:  0.117103\n",
      "Epoch =  41 training loss:  0.100298  test loss:  0.116397\n",
      "Epoch =  42 training loss:  0.0987501  test loss:  0.115543\n",
      "Epoch =  43 training loss:  0.0989158  test loss:  0.116769\n",
      "Epoch =  44 training loss:  0.100969  test loss:  0.113722\n",
      "Epoch =  45 training loss:  0.0993735  test loss:  0.115804\n",
      "Epoch =  46 training loss:  0.0992564  test loss:  0.115961\n",
      "Epoch =  47 training loss:  0.100229  test loss:  0.116351\n",
      "Epoch =  48 training loss:  0.0997336  test loss:  0.114918\n",
      "Epoch =  49 training loss:  0.0990193  test loss:  0.113732\n",
      "Epoch =  50 training loss:  0.0999609  test loss:  0.114815\n",
      "Epoch =  51 training loss:  0.0997966  test loss:  0.115408\n",
      "Epoch =  52 training loss:  0.10286  test loss:  0.12344\n",
      "Epoch =  53 training loss:  0.0989689  test loss:  0.114853\n",
      "Epoch =  54 training loss:  0.0998328  test loss:  0.116413\n",
      "Epoch =  55 training loss:  0.10313  test loss:  0.121172\n",
      "Epoch =  56 training loss:  0.0987813  test loss:  0.115169\n",
      "Epoch =  57 training loss:  0.100854  test loss:  0.117622\n",
      "Epoch =  58 training loss:  0.0997443  test loss:  0.114186\n",
      "Epoch =  59 training loss:  0.101252  test loss:  0.118502\n",
      "Epoch =  60 training loss:  0.100227  test loss:  0.11807\n"
     ]
    }
   ],
   "source": [
    "X = tf.placeholder(\"float64\", shape=[None, d])\n",
    "y = tf.placeholder(\"float64\", shape=[None, 1])\n",
    "\n",
    "# Weight initializations\n",
    "\n",
    "# w_1 = w_1_random\n",
    "\n",
    "w_1 = tf.Variable(np.transpose(tensorWeights[0]))\n",
    "\n",
    "# w_2 = []\n",
    "# v_choice = [1,-1]\n",
    "# for iter in range(k):\n",
    "#     w_2.append(random.choice(v_choice))\n",
    "# w_2 = tf.cast(tf.Variable(np.transpose(np.asarray([w_2])), trainable=False), tf.float32)\n",
    "# w_2 = init_weights((k, 1))\n",
    "\n",
    "# w_2 = tf.Variable(tensorWeights[1], trainable=False)\n",
    "\n",
    "w_2 = tf.Variable( np.transpose([v_gt]), trainable=False)\n",
    "w_2 = tf.cast(w_2, tf.float64)\n",
    "\n",
    "# Forward propagation\n",
    "yhat  = forwardprop(X, w_1, w_2)\n",
    "\n",
    "# Backward propagation\n",
    "cost = tf.losses.mean_squared_error(y, yhat)\n",
    "updates = tf.train.GradientDescentOptimizer(0.001).minimize(cost)\n",
    "\n",
    "# Run SGD\n",
    "config = tf.ConfigProto()\n",
    "config.gpu_options.allow_growth = True\n",
    "sess = tf.Session(config=config)\n",
    "init = tf.global_variables_initializer()\n",
    "sess.run(init)\n",
    "epsilon = 1e-4\n",
    "x_e = []\n",
    "y_tl4 = []\n",
    "acc4 = []\n",
    "T = 60\n",
    "## Node Sparsity\n",
    "s = 2\n",
    "## Connection Sparsity\n",
    "connection_thresh = 0.14\n",
    "for epoch in range(T):\n",
    "    \n",
    "    i = 0\n",
    "    \n",
    "    ## Shuffling\n",
    "    permList = np.random.permutation(range(n))\n",
    "    train_x = train_x[permList]\n",
    "    train_y = train_y[permList]\n",
    "    \n",
    "    for iter in range(int(n/batch_size)):\n",
    "        sess.run(updates, feed_dict={X: train_x[i: i + batch_size], y: train_y[i: i + batch_size].reshape(batch_size,1)})\n",
    "        i = (i + batch_size)%n\n",
    "#     train_accuracy = np.mean((train_y - sess.run(yhat, feed_dict={X:train_x})) <= epsilon)\n",
    "    loss = sess.run(cost, feed_dict={X:train_x, y:train_y.reshape(n,1)})\n",
    "    test_loss = sess.run(cost, feed_dict={X:test_x, y:test_y.reshape(1000,1)})\n",
    "    \n",
    "    ## Iterative Hard Thresholding\n",
    "    ## after every epoch\n",
    "    \n",
    "    ## Node Removal\n",
    "#     cur_w1 =  w_1.eval(session=sess)   \n",
    "#     normW1 = []\n",
    "#     for i in range(k):\n",
    "#         this_norm = np.linalg.norm(cur_w1[:,i])\n",
    "#         normW1.append((this_norm,i))\n",
    "#     normW1.sort()\n",
    "\n",
    "#     for i in range(s):\n",
    "#         this_ind = normW1[i][1] \n",
    "#         cur_w1[:,this_ind] = np.zeros(d)\n",
    "#     assign_op = tf.assign(w_1, cur_w1)\n",
    "#     sess.run(assign_op)\n",
    "    \n",
    "    ## Connection Removal\n",
    "    cur_w1 =  w_1.eval(session=sess)   \n",
    "    for i in range(d):\n",
    "        for j in range(k):\n",
    "            this_norm = np.linalg.norm(cur_w1[i,j])\n",
    "            if this_norm <= connection_thresh:\n",
    "                cur_w1[i,j] = 0.0\n",
    "    assign_op = tf.assign(w_1, cur_w1)\n",
    "    sess.run(assign_op)\n",
    "    \n",
    "    ## Connection Removal in a node\n",
    "#     cur_w1 =  w_1.eval(session=sess)   \n",
    "#     normW1 = []\n",
    "#     for i in range(k):\n",
    "#         this_norm = np.linalg.norm(cur_w1[:,i])\n",
    "#         normW1.append((this_norm,i))\n",
    "#     normW1.sort()\n",
    "#     check = 0\n",
    "#     for i in range(s):\n",
    "#         this_ind = normW1[i][1] \n",
    "#         for j in range(d):\n",
    "#             this_norm = np.linalg.norm(cur_w1[j,this_ind])\n",
    "#             if this_norm <= connection_thresh:\n",
    "#                 cur_w1[j,this_ind] = 0.0\n",
    "#                 check += 1\n",
    "#     assign_op = tf.assign(w_1, cur_w1)\n",
    "#     sess.run(assign_op)\n",
    "    \n",
    "    print \"Epoch = \", epoch+1,\"training loss: \", loss ,\" test loss: \",test_loss \n",
    "    x_e.append(epoch+1)\n",
    "    y_tl4.append(loss)\n",
    "    acc4.append(test_loss)"
   ]
  },
  {
   "cell_type": "code",
   "execution_count": 48,
   "metadata": {},
   "outputs": [
    {
     "name": "stdout",
     "output_type": "stream",
     "text": [
      "Success\n"
     ]
    }
   ],
   "source": [
    "permList = list(itertools.permutations(range(k)))\n",
    "\n",
    "# w_p = tensorWeights[0]\n",
    "# w_p = np.random.normal(0, 0.1 , (k,d))\n",
    "w_p = np.transpose(sess.run(w_1))\n",
    "# v_p = tensorWeights[1]\n",
    "v_p = sess.run(w_2)\n",
    "temp = []\n",
    "for i in v_p:\n",
    "    temp.append(i[0])\n",
    "v_p = np.asarray(temp)\n",
    "for perm in permList:\n",
    "    w_pi = w_p[list(perm)]\n",
    "    v_pi = v_p[list(perm)]\n",
    "    \n",
    "    w_gt = np.transpose(W_gt)\n",
    "    \n",
    "    if sum(v_gt == v_pi) == k:\n",
    "        max_diff = 0\n",
    "        for i in range(k):\n",
    "            diff = np.linalg.norm(w_pi[i]-w_gt[i])/np.linalg.norm(w_gt)\n",
    "            if diff > max_diff:\n",
    "                max_diff = diff\n",
    "        if max_diff < 0.1:\n",
    "            print \"Success\"\n",
    "            break\n",
    "    else:\n",
    "        continue"
   ]
  },
  {
   "cell_type": "code",
   "execution_count": 50,
   "metadata": {
    "collapsed": true
   },
   "outputs": [],
   "source": [
    "import matplotlib.pyplot as plt"
   ]
  },
  {
   "cell_type": "code",
   "execution_count": 59,
   "metadata": {
    "collapsed": true
   },
   "outputs": [],
   "source": [
    "NT = 8\n",
    "\n",
    "y_tl0 = y_tl0[:NT]\n",
    "acc0 = acc0[:NT]\n",
    "\n",
    "y_tl1 = y_tl1[:NT]\n",
    "acc1 = acc1[:NT]\n",
    "\n",
    "y_tl2 = y_tl2[:NT]\n",
    "acc2 = acc2[:NT]\n",
    "\n",
    "y_tl3 = y_tl3[:NT]\n",
    "acc3 = acc3[:NT]\n",
    "\n",
    "y_tl4 = y_tl4[:NT]\n",
    "acc4 = acc4[:NT]\n",
    "x_e = x_e[:NT]"
   ]
  },
  {
   "cell_type": "code",
   "execution_count": 68,
   "metadata": {},
   "outputs": [
    {
     "data": {
      "image/png": "[encoded data removed]",
      "text/plain": [
       "<matplotlib.figure.Figure at 0x7fee7859a690>"
      ]
     },
     "metadata": {},
     "output_type": "display_data"
    },
    {
     "data": {
      "image/png": "[encoded data removed]",
      "text/plain": [
       "<matplotlib.figure.Figure at 0x7fee5bd80f10>"
      ]
     },
     "metadata": {},
     "output_type": "display_data"
    }
   ],
   "source": [
    "fig, ax1 = plt.subplots()\n",
    "ax1.plot(x_e, y_tl0, 'blue', label=\"tensor\")\n",
    "# ax1.plot(x_e, y_tl, 'red', label=\"random\")\n",
    "ax1.plot(x_e, y_tl1, 'red', label=\"s=0.2\")\n",
    "ax1.plot(x_e, y_tl2, 'green', label=\"s=0.10\")\n",
    "ax1.plot(x_e, y_tl3, 'black', label=\"s=0.15\")\n",
    "ax1.plot(x_e, y_tl4, 'magenta', label=\"s=0.05\")\n",
    "ax1.set_xlabel('epochs', color=\"white\")\n",
    "# Make the y-axis label, ticks and tick labels match the line color.\n",
    "ax1.set_ylabel('training loss', color='white')\n",
    "ax1.tick_params('y', colors='white')\n",
    "ax1.tick_params('x', colors='white')\n",
    "l1 = ax1.legend(bbox_to_anchor=(1.1 ,0.5), loc=2, borderaxespad=0.)\n",
    "ax1.set_ylim([0.0,0.30])\n",
    "\n",
    "\n",
    "# ax2 = ax1.twinx()\n",
    "fig, ax2 = plt.subplots()\n",
    "ax2.plot(x_e, acc0, 'blue', label=\"tensor_test\")\n",
    "# ax2.plot(x_e, acc, 'red', label=\"random_acc\")\n",
    "ax2.plot(x_e, acc1, 'red',label=\"s=0.2\")\n",
    "ax2.plot(x_e, acc2, 'green',label=\"s=0.10\")\n",
    "ax2.plot(x_e, acc3, 'black',label=\"s=0.15\")\n",
    "ax2.plot(x_e, acc4, 'magenta',label=\"s=0.05\")\n",
    "ax2.set_ylabel('test error', color='white')\n",
    "ax2.tick_params('y', colors='white')\n",
    "ax2.tick_params('x', colors='white')\n",
    "ax2.set_xlabel('epochs', color=\"white\")\n",
    "l2 = ax2.legend(bbox_to_anchor=(1.1, 1), loc=2, borderaxespad=0.)\n",
    "ax2.set_ylim([0.0,0.30])\n",
    "# \n",
    "# fig.tight_layout()\n",
    "plt.show()"
   ]
  }
 ],
 "metadata": {
  "kernelspec": {
   "display_name": "Python [conda env:tf-py2.7-mat]",
   "language": "python",
   "name": "conda-env-tf-py2.7-mat-py"
  },
  "language_info": {
   "codemirror_mode": {
    "name": "ipython",
    "version": 2
   },
   "file_extension": ".py",
   "mimetype": "text/x-python",
   "name": "python",
   "nbconvert_exporter": "python",
   "pygments_lexer": "ipython2",
   "version": "2.7.13"
  }
 },
 "nbformat": 4,
 "nbformat_minor": 2
}
