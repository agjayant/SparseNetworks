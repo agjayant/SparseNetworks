{
 "cells": [
  {
   "cell_type": "code",
   "execution_count": 2,
   "metadata": {
    "collapsed": true
   },
   "outputs": [],
   "source": [
    "import numpy as np\n",
    "import tensorflow as tf\n",
    "import random, math\n",
    "import matlab\n",
    "import matlab.engine as me\n",
    "from dataSetup import generateData, generateWeights\n",
    "from recovAnalysis import recovery, structDiff\n",
    "from trainerUtil import tensorInit, train"
   ]
  },
  {
   "cell_type": "code",
   "execution_count": null,
   "metadata": {
    "collapsed": true
   },
   "outputs": [],
   "source": [
    "### Implementation Verification\n",
    "\n",
    "# m[2,3]/np.linalg.norm(W_gt[:,3])**2\n",
    "\n",
    "# M =  np.asarray(getM2(train_x, train_y))\n",
    "\n",
    "# check = np.zeros((d,d))\n",
    "# # check = np.zeros(d)\n",
    "# for i in range(k):\n",
    "#     check += v_gt[i]*m[1,i]*np.outer(W_gt[:,i], W_gt[:,i])\n",
    "# #     check += v_gt[i]*m[0,i]*W_gt[:,i]\n",
    "# print check\n",
    "# print np.linalg.norm(M-check)/np.linalg.norm(check)\n",
    "# print np.linalg.norm(M-check)/np.linalg.norm(M)"
   ]
  },
  {
   "cell_type": "code",
   "execution_count": 3,
   "metadata": {},
   "outputs": [],
   "source": [
    "n = 2000\n",
    "test_n = 1000\n",
    "d = 10\n",
    "k = 5\n",
    "thresh_gt = 0.15\n",
    "thresh_train = 0.15\n",
    "batch_size = 20\n",
    "lr = 1e-3\n",
    "noise_sd = 0.1\n",
    "\n",
    "w_gt, v_gt, m =  generateWeights(d, k, thresh_gt)\n",
    "train_x, train_y, test_x, test_y = generateData(w_gt, v_gt, n, test_n, d)\n",
    "train_y_noisy = train_y + np.random.normal(0, noise_sd, n)\n",
    "\n",
    "eng = me.start_matlab()\n",
    "tensorWeights = tensorInit(train_x, train_y_noisy, w_gt, m ,k, eng)\n",
    "eng.quit()\n",
    "\n",
    "w_res, train_loss, test_loss = train(train_x, train_y_noisy, test_x, test_y, tensorWeights,v_gt, thresh_train)   \n",
    "\n",
    "recoveryVal = recovery(w_gt, v_gt, w_res, v_gt)\n",
    "print recoveryVal\n",
    "\n",
    "recoveryStructure = structDiff(w_gt, w_res, 1e-2)\n",
    "print recoveryStructure"
   ]
  },
  {
   "cell_type": "code",
   "execution_count": null,
   "metadata": {
    "collapsed": true
   },
   "outputs": [],
   "source": [
    "import matplotlib.pyplot as plt"
   ]
  },
  {
   "cell_type": "code",
   "execution_count": null,
   "metadata": {
    "collapsed": true
   },
   "outputs": [],
   "source": [
    "NT = 10\n",
    "\n",
    "y_tl0 = y_tl0[:NT]\n",
    "acc0 = acc0[:NT]\n",
    "\n",
    "y_tl1 = y_tl1[:NT]\n",
    "acc1 = acc1[:NT]\n",
    "\n",
    "y_tl2 = y_tl2[:NT]\n",
    "acc2 = acc2[:NT]\n",
    "\n",
    "y_tl3 = y_tl3[:NT]\n",
    "acc3 = acc3[:NT]\n",
    "\n",
    "# y_tl4 = y_tl4[:NT]\n",
    "# acc4 = acc4[:NT]\n",
    "x_e = x_e[:NT]"
   ]
  },
  {
   "cell_type": "code",
   "execution_count": null,
   "metadata": {
    "collapsed": true
   },
   "outputs": [],
   "source": [
    "fig, ax1 = plt.subplots()\n",
    "ax1.plot(a, b, 'blue', label=\"Ground Truth Thresh= 0.20\")\n",
    "ax1.set_xlabel('threshold', color=\"white\")\n",
    "# Make the y-axis label, ticks and tick labels match the line color.\n",
    "ax1.set_ylabel('recovery', color='white')\n",
    "ax1.tick_params('y', colors='white')\n",
    "ax1.tick_params('x', colors='white')\n",
    "l1 = ax1.legend(bbox_to_anchor=(1.1 ,0.5), loc=2, borderaxespad=0.)\n",
    "plt.show()"
   ]
  },
  {
   "cell_type": "code",
   "execution_count": null,
   "metadata": {
    "collapsed": true
   },
   "outputs": [],
   "source": [
    "fig, ax1 = plt.subplots()\n",
    "ax1.plot(x_e, y_tl0, 'blue', label=\"Ground Truth Thresh= 0.15\")\n",
    "# ax1.plot(x_e, y_tl, 'red', label=\"random\")\n",
    "ax1.plot(x_e, y_tl1, 'red', label=\"thresh = 0.10\")\n",
    "ax1.plot(x_e, y_tl2, 'green', label=\"thresh=0.15\")\n",
    "ax1.plot(x_e, y_tl3, 'black', label=\"thresh=0.20\")\n",
    "ax1.plot(x_e, y_tl4, 'magenta', label=\"thresh=0.25\")\n",
    "ax1.set_xlabel('epochs', color=\"white\")\n",
    "# Make the y-axis label, ticks and tick labels match the line color.\n",
    "ax1.set_ylabel('training loss', color='white')\n",
    "ax1.tick_params('y', colors='white')\n",
    "ax1.tick_params('x', colors='white')\n",
    "l1 = ax1.legend(bbox_to_anchor=(1.1 ,0.5), loc=2, borderaxespad=0.)\n",
    "# ax1.set_ylim([0.20,0.30])\n",
    "\n",
    "\n",
    "# ax2 = ax1.twinx()\n",
    "fig, ax2 = plt.subplots()\n",
    "ax2.plot(x_e, acc0, 'blue', label=\"Ground Truth Thresh= 0.15\")\n",
    "# ax2.plot(x_e, acc, 'red', label=\"random_acc\")\n",
    "ax2.plot(x_e, acc1, 'red',label=\"thresh=0.10\")\n",
    "ax2.plot(x_e, acc2, 'green',label=\"thresh=0.15\")\n",
    "ax2.plot(x_e, acc3, 'black',label=\"thresh=0.20\")\n",
    "ax2.plot(x_e, acc4, 'magenta',label=\"thresh=0.25\")\n",
    "ax2.set_ylabel('test error', color='white')\n",
    "ax2.tick_params('y', colors='white')\n",
    "ax2.tick_params('x', colors='white')\n",
    "ax2.set_xlabel('epochs', color=\"white\")\n",
    "l2 = ax2.legend(bbox_to_anchor=(1.1, 1), loc=2, borderaxespad=0.)\n",
    "# ax2.set_ylim([0.20,0.30])\n",
    "# \n",
    "# fig.tight_layout()\n",
    "plt.show()"
   ]
  }
 ],
 "metadata": {
  "kernelspec": {
   "display_name": "Python [conda env:tf-py2.7-mat]",
   "language": "python",
   "name": "conda-env-tf-py2.7-mat-py"
  },
  "language_info": {
   "codemirror_mode": {
    "name": "ipython",
    "version": 2
   },
   "file_extension": ".py",
   "mimetype": "text/x-python",
   "name": "python",
   "nbconvert_exporter": "python",
   "pygments_lexer": "ipython2",
   "version": "2.7.13"
  }
 },
 "nbformat": 4,
 "nbformat_minor": 2
}
